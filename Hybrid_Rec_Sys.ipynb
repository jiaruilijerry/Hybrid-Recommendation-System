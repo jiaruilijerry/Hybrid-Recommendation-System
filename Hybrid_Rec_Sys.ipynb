{
  "cells": [
    {
      "cell_type": "markdown",
      "metadata": {
        "id": "8Utt4NA42VvJ"
      },
      "source": [
        "**Dependencies**"
      ]
    },
    {
      "cell_type": "code",
      "execution_count": null,
      "metadata": {
        "id": "y308IAS_2IHD"
      },
      "outputs": [],
      "source": [
        "from datetime import datetime\n",
        "import pandas as pd\n",
        "import json\n",
        "\n",
        "from transformers import (\n",
        "    AutoModel,\n",
        "    AutoModelForMaskedLM,\n",
        "    AutoTokenizer,\n",
        "    DataCollatorForLanguageModeling,\n",
        "    DataCollatorForWholeWordMask,\n",
        "    Trainer,\n",
        "    TrainingArguments,\n",
        ")\n",
        "\n",
        "import torch\n",
        "from torch.nn.functional import cosine_similarity\n",
        "from torch.utils.data import DataLoader\n",
        "from collections import defaultdict\n"
      ]
    },
    {
      "cell_type": "markdown",
      "metadata": {
        "id": "Z0GcmN0hwH0m"
      },
      "source": [
        "**Loading Dataset**"
      ]
    },
    {
      "cell_type": "code",
      "execution_count": null,
      "metadata": {
        "colab": {
          "base_uri": "https://localhost:8080/"
        },
        "id": "JwJgQDbnjCmy",
        "outputId": "bb7bdf81-9a1d-4967-bb76-198d0959ef19"
      },
      "outputs": [
        {
          "output_type": "stream",
          "name": "stdout",
          "text": [
            "Mounted at /content/drive\n"
          ]
        }
      ],
      "source": [
        "from google.colab import drive\n",
        "drive.mount('/content/drive')"
      ]
    },
    {
      "cell_type": "code",
      "execution_count": null,
      "metadata": {
        "id": "DxE8J-FM2xHq"
      },
      "outputs": [],
      "source": [
        "train_users_pth = '/content/drive/MyDrive/Hybrid_Rec_Sys/data/MINDsmall_train/behaviors.tsv'\n",
        "train_news_pth =  '/content/drive/MyDrive/Hybrid_Rec_Sys/data/MINDsmall_train/news.tsv'\n",
        "dev_users_pth = '/content/drive/MyDrive/Hybrid_Rec_Sys/data/MINDsmall_dev/behaviors.tsv'\n",
        "dev_news_pth = '/content/drive/MyDrive/Hybrid_Rec_Sys/data/MINDsmall_dev/news.tsv'\n",
        "\n",
        "\n",
        "train_users = pd.read_csv(train_users_pth, delimiter='\\t', header=None)\n",
        "dev_users = pd.read_csv(dev_users_pth, delimiter='\\t', header=None)\n",
        "news = pd.read_csv(train_news_pth, delimiter='\\t', header=None)\n",
        "dev = pd.read_csv(dev_news_pth, delimiter='\\t', header=None)"
      ]
    },
    {
      "cell_type": "markdown",
      "metadata": {
        "id": "6RJTCF3H76ZE"
      },
      "source": [
        "**Preprocess Dataset**\n",
        "\n",
        "\n"
      ]
    },
    {
      "cell_type": "markdown",
      "metadata": {
        "id": "3oKfrzB3o2AF"
      },
      "source": [
        "Dropping Unnecessary columns (time and url)"
      ]
    },
    {
      "cell_type": "code",
      "source": [
        "def process_users(users):\n",
        "    result = users.drop(columns=[2])\n",
        "    result[3] = result[3].apply(lambda x: x.split() if isinstance(x, str) else [])\n",
        "    result[4] = result[4].apply(lambda x: [item.split('-') for item in x.split()] if isinstance(x, str) else [])\n",
        "    result.columns = [\"impression_id\", \"user_id\", \"history\", \"impressions\"]\n",
        "    # print(result)\n",
        "    return result"
      ],
      "metadata": {
        "id": "RfdiDTBEA-ms"
      },
      "execution_count": null,
      "outputs": []
    },
    {
      "cell_type": "code",
      "execution_count": null,
      "metadata": {
        "id": "n1BZGTpr7944"
      },
      "outputs": [],
      "source": [
        "def extract_entities(col):\n",
        "    return col.apply(\n",
        "        lambda x: ' '.join([ent['Label'] for ent in json.loads(x)]) if isinstance(x, str) and x != '[]' else ''\n",
        "    )\n",
        "\n",
        "def process_news(news):\n",
        "    result = news.drop(columns=[5])\n",
        "    title_labels = extract_entities(result[6])\n",
        "    abstract_labels = extract_entities(result[7])\n",
        "    result[3] = result[3].fillna('')\n",
        "    result[4] = result[4].fillna('')\n",
        "    result['news_info'] = result[1] + ' ; ' + result[2] + ' ; ' + title_labels + ' ; ' + abstract_labels + ' ; ' + result[3] + ' ; ' + result[4]\n",
        "    result = result.drop(columns=[4])\n",
        "    result = result.drop(columns=[6])\n",
        "    result = result.drop(columns=[7])\n",
        "    result.columns = [\"news_id\", \"category\", \"sub_category\", \"title\", \"news_info\"]\n",
        "\n",
        "    # print(result)\n",
        "    return result"
      ]
    },
    {
      "cell_type": "markdown",
      "metadata": {
        "id": "8S2waqjHo8Ch"
      },
      "source": [
        "Preprocessing users history and impressions"
      ]
    },
    {
      "cell_type": "code",
      "execution_count": null,
      "metadata": {
        "id": "9YzP8_I5pGmW"
      },
      "outputs": [],
      "source": [
        "train_users = process_users(train_users)\n",
        "dev_users = process_users(dev_users)"
      ]
    },
    {
      "cell_type": "markdown",
      "metadata": {
        "id": "01IjsgX4qQgw"
      },
      "source": [
        "Preprocessing news title, abstract"
      ]
    },
    {
      "cell_type": "code",
      "execution_count": null,
      "metadata": {
        "id": "OsEqHtwV_l0L"
      },
      "outputs": [],
      "source": [
        "train_news = process_news(news)\n",
        "dev_news = process_news(dev)"
      ]
    },
    {
      "cell_type": "code",
      "execution_count": null,
      "metadata": {
        "id": "zgI0HGwsHb9V"
      },
      "outputs": [],
      "source": [
        "train_sentences = train_news['news_info'].apply(str.strip).tolist()\n",
        "dev_sentences = dev_news['news_info'].apply(str.strip).tolist()"
      ]
    },
    {
      "cell_type": "code",
      "source": [
        "def group_by_subcategory(dev_news):\n",
        "    grouped = {}\n",
        "    for _, row in dev_news.iterrows():\n",
        "        sub_category = row['sub_category']\n",
        "        news_info = row['news_info']\n",
        "        if sub_category not in grouped:\n",
        "            grouped[sub_category] = []\n",
        "        if len(news_info) < 512:\n",
        "            grouped[sub_category].append({\n",
        "                'title': row['title'],\n",
        "                \"news_id\": row['news_id'],\n",
        "                \"category\": row['category'],\n",
        "                \"news_info\": row['news_info']\n",
        "            })\n",
        "    return grouped"
      ],
      "metadata": {
        "id": "zIaNIBo-8msi"
      },
      "execution_count": null,
      "outputs": []
    },
    {
      "cell_type": "code",
      "source": [
        "grouped_news = group_by_subcategory(dev_news)\n",
        "print(dev_news['news_id'][0])"
      ],
      "metadata": {
        "colab": {
          "base_uri": "https://localhost:8080/"
        },
        "id": "T_NvSKmq8o2d",
        "outputId": "11579e8e-5b84-4f14-ff6d-69bf0669a6ab"
      },
      "execution_count": null,
      "outputs": [
        {
          "output_type": "stream",
          "name": "stdout",
          "text": [
            "N55528\n"
          ]
        }
      ]
    },
    {
      "cell_type": "code",
      "execution_count": null,
      "metadata": {
        "colab": {
          "base_uri": "https://localhost:8080/"
        },
        "id": "c7-nbaqe6Dah",
        "outputId": "15c8290d-5f14-49ca-ee60-a532585d33fa"
      },
      "outputs": [
        {
          "output_type": "stream",
          "name": "stdout",
          "text": [
            "  news_id   category     sub_category  \\\n",
            "0  N55528  lifestyle  lifestyleroyals   \n",
            "1  N18955     health          medical   \n",
            "2  N61837       news        newsworld   \n",
            "3  N53526     health           voices   \n",
            "4  N38324     health          medical   \n",
            "\n",
            "                                               title  \\\n",
            "0  The Brands Queen Elizabeth, Prince Charles, an...   \n",
            "1  Dispose of unwanted prescription drugs during ...   \n",
            "2  The Cost of Trump's Aid Freeze in the Trenches...   \n",
            "3  I Was An NBA Wife. Here's How It Affected My M...   \n",
            "4  How to Get Rid of Skin Tags, According to a De...   \n",
            "\n",
            "                                           news_info  \n",
            "0  lifestyle ; lifestyleroyals ; Prince Philip, D...  \n",
            "1  health ; medical ; Drug Enforcement Administra...  \n",
            "2  news ; newsworld ;  ; Ukraine ; The Cost of Tr...  \n",
            "3  health ; voices ;  ; National Basketball Assoc...  \n",
            "4  health ; medical ; Skin tag ; Skin tag Dermato...  \n"
          ]
        }
      ],
      "source": [
        "print(dev_news.head())"
      ]
    },
    {
      "cell_type": "code",
      "source": [
        "count = 0\n",
        "for sentence in train_sentences:\n",
        "    if len(sentence) < 512:\n",
        "        count += 1\n",
        "\n",
        "print(count)"
      ],
      "metadata": {
        "colab": {
          "base_uri": "https://localhost:8080/"
        },
        "id": "S3d-ZldUFdJA",
        "outputId": "6935ae05-2495-45ac-ab2b-6b006c8f17e4"
      },
      "execution_count": null,
      "outputs": [
        {
          "output_type": "stream",
          "name": "stdout",
          "text": [
            "37571\n"
          ]
        }
      ]
    },
    {
      "cell_type": "markdown",
      "metadata": {
        "id": "FVc_q51IQ8KA"
      },
      "source": [
        "**Model Architecture**"
      ]
    },
    {
      "cell_type": "code",
      "execution_count": null,
      "metadata": {
        "id": "2l-5G-2OQ-8Y"
      },
      "outputs": [],
      "source": [
        "model_name = 'bert-base-uncased'\n",
        "per_device_train_batch_size = 16\n",
        "\n",
        "save_steps = 1000  # Save model every 1k steps\n",
        "num_train_epochs = 3  # Number of epochs\n",
        "use_fp16 = True  # Set to True, if your GPU supports FP16 operations\n",
        "max_length = 512  # Max length for a text input\n",
        "do_whole_word_mask = True  # If set to true, whole words are masked\n",
        "mlm_prob = 0.15  # Probability that a word is replaced by a [MASK] token\n",
        "learning_rate = 3e-5"
      ]
    },
    {
      "cell_type": "code",
      "execution_count": null,
      "metadata": {
        "id": "P0FKjPzhNdcG",
        "colab": {
          "base_uri": "https://localhost:8080/",
          "height": 423,
          "referenced_widgets": [
            "c580597ac9d842d6aba5d938ed075c5f",
            "526b667ac7e04e658f360b575751179d",
            "ad0457c705e042468bfa81b4c458b08f",
            "14febfeea1474ceab8e51c15c951d345",
            "48b6f30f8ca64864a079a6d27ec93549",
            "c188395057894af4afff824d311449c7",
            "5244f6d33caf4c9db9ee73bfe27cf7f4",
            "38b1d9a6f5bd4130866f872bc48e05ea",
            "750486a94af34ddb88b1520bfddd8bfb",
            "88d7c88f0d6b4579b9f412b9ae638a00",
            "a6c67f1941c24e4999577d5db58b9c3a",
            "2fd10f0327c8466885979aaf49beb1fb",
            "2df397a69c554d93b85678096b5a80f4",
            "449470947c79447ca3ed8200fae90059",
            "f1224ca1a55d483196560ffb463e80f7",
            "446e991916a84899ad54b43486172e85",
            "19985b8ae2c84bda9d5d6c4000387d61",
            "2d8929aabab142d89edd17df04ca53d4",
            "bb4e1b73ee874d59b60cfc608fe17e92",
            "9bd829e4b74b4f23a5cdd43c66fa681b",
            "beba35c48153487c982cf4245ab89b61",
            "c440bf5d088b46e3a1681df6837a58d1",
            "f48b9e79f2a44126ad58d0cc220ecc33",
            "820ad80a66f441b0933d26abbbf6e483",
            "b5758d53742249b09ef4bf2cad923eca",
            "81cb94f62416418899fea18281bac781",
            "62162211ed52402cb1d1504fa33be439",
            "9096b51c594f4b9b9fd9d39cf5062c6a",
            "9c787250973a45b1894bd8b8452c5e78",
            "b4533ca1b4224513b839894eeb89ce61",
            "3eebc5fcc603422aac581c3d05294450",
            "3b2249df476f4137b15e0e325544c523",
            "51f558a79d764d5aaba4643ef8f79caa",
            "f22a1b6cc90e4388a90502fad749f538",
            "d9ae37c17c4341a6a919ca36be144d5f",
            "25d9bf2f563d430bad34d95b5c571d47",
            "cef8f15e289141bb9d100dd059ecf38d",
            "5ccd078b0c9f432e927d53e688ea03ea",
            "7a626e57d61947fd94a1c18ff0e12a47",
            "87c7c9ba2a664766902c68fcb6b890d9",
            "6021deee4d384291bb9584dc39101924",
            "425eaa5e08a34822b4cb30d3cc43a90e",
            "c34b18b9cf424a56aed6bc6335e9e856",
            "3c992c459b4b45c5baca23654f049a33",
            "8a6ab8b7d17d425dbf9f7f2e0b64cdc8",
            "7e3fc0bf5bb14ff79b5f3aecdf3bfc2a",
            "7d00fae15d9246439bd6a738fdded4a6",
            "ffb2fb4e8169425c909905d8bcee929b",
            "351389c7385241489ae234a289f480ce",
            "c5c304952ee9402cb002120de5ce4e4a",
            "e2113c95f1334a11a8351f04088f966b",
            "eb055545654f4dc09d8bcfda161d9b36",
            "317925fef1a247778a13a10c6f763466",
            "e45c5f9b9ab04567b54377db2a6e33a6",
            "00c57e5066334304b201cc7bd4f10e3e"
          ]
        },
        "outputId": "0d330e0f-6c78-4fd9-a284-95cbc8cd8df2"
      },
      "outputs": [
        {
          "output_type": "stream",
          "name": "stderr",
          "text": [
            "/usr/local/lib/python3.10/dist-packages/huggingface_hub/utils/_auth.py:94: UserWarning: \n",
            "The secret `HF_TOKEN` does not exist in your Colab secrets.\n",
            "To authenticate with the Hugging Face Hub, create a token in your settings tab (https://huggingface.co/settings/tokens), set it as secret in your Google Colab and restart your session.\n",
            "You will be able to reuse this secret in all of your notebooks.\n",
            "Please note that authentication is recommended but still optional to access public models or datasets.\n",
            "  warnings.warn(\n"
          ]
        },
        {
          "output_type": "display_data",
          "data": {
            "text/plain": [
              "config.json:   0%|          | 0.00/570 [00:00<?, ?B/s]"
            ],
            "application/vnd.jupyter.widget-view+json": {
              "version_major": 2,
              "version_minor": 0,
              "model_id": "c580597ac9d842d6aba5d938ed075c5f"
            }
          },
          "metadata": {}
        },
        {
          "output_type": "display_data",
          "data": {
            "text/plain": [
              "model.safetensors:   0%|          | 0.00/440M [00:00<?, ?B/s]"
            ],
            "application/vnd.jupyter.widget-view+json": {
              "version_major": 2,
              "version_minor": 0,
              "model_id": "2fd10f0327c8466885979aaf49beb1fb"
            }
          },
          "metadata": {}
        },
        {
          "output_type": "stream",
          "name": "stderr",
          "text": [
            "BertForMaskedLM has generative capabilities, as `prepare_inputs_for_generation` is explicitly overwritten. However, it doesn't directly inherit from `GenerationMixin`. From 👉v4.50👈 onwards, `PreTrainedModel` will NOT inherit from `GenerationMixin`, and this model will lose the ability to call `generate` and other related functions.\n",
            "  - If you're using `trust_remote_code=True`, you can get rid of this warning by loading the model with an auto class. See https://huggingface.co/docs/transformers/en/model_doc/auto#auto-classes\n",
            "  - If you are the owner of the model architecture code, please modify your model class such that it inherits from `GenerationMixin` (after `PreTrainedModel`, otherwise you'll get an exception).\n",
            "  - If you are not the owner of the model architecture class, please contact the model code owner to update it.\n",
            "Some weights of the model checkpoint at bert-base-uncased were not used when initializing BertForMaskedLM: ['bert.pooler.dense.bias', 'bert.pooler.dense.weight', 'cls.seq_relationship.bias', 'cls.seq_relationship.weight']\n",
            "- This IS expected if you are initializing BertForMaskedLM from the checkpoint of a model trained on another task or with another architecture (e.g. initializing a BertForSequenceClassification model from a BertForPreTraining model).\n",
            "- This IS NOT expected if you are initializing BertForMaskedLM from the checkpoint of a model that you expect to be exactly identical (initializing a BertForSequenceClassification model from a BertForSequenceClassification model).\n"
          ]
        },
        {
          "output_type": "display_data",
          "data": {
            "text/plain": [
              "tokenizer_config.json:   0%|          | 0.00/48.0 [00:00<?, ?B/s]"
            ],
            "application/vnd.jupyter.widget-view+json": {
              "version_major": 2,
              "version_minor": 0,
              "model_id": "f48b9e79f2a44126ad58d0cc220ecc33"
            }
          },
          "metadata": {}
        },
        {
          "output_type": "display_data",
          "data": {
            "text/plain": [
              "vocab.txt:   0%|          | 0.00/232k [00:00<?, ?B/s]"
            ],
            "application/vnd.jupyter.widget-view+json": {
              "version_major": 2,
              "version_minor": 0,
              "model_id": "f22a1b6cc90e4388a90502fad749f538"
            }
          },
          "metadata": {}
        },
        {
          "output_type": "display_data",
          "data": {
            "text/plain": [
              "tokenizer.json:   0%|          | 0.00/466k [00:00<?, ?B/s]"
            ],
            "application/vnd.jupyter.widget-view+json": {
              "version_major": 2,
              "version_minor": 0,
              "model_id": "8a6ab8b7d17d425dbf9f7f2e0b64cdc8"
            }
          },
          "metadata": {}
        }
      ],
      "source": [
        "model = AutoModelForMaskedLM.from_pretrained(model_name)\n",
        "tokenizer = AutoTokenizer.from_pretrained(model_name)"
      ]
    },
    {
      "cell_type": "markdown",
      "metadata": {
        "id": "9oTHVdBQKmYw"
      },
      "source": [
        "**Loss**"
      ]
    },
    {
      "cell_type": "code",
      "execution_count": null,
      "metadata": {
        "id": "zdTmW6FlKlkh",
        "colab": {
          "base_uri": "https://localhost:8080/"
        },
        "outputId": "cd8c628d-80ab-40d1-c509-453038ea7312"
      },
      "outputs": [
        {
          "output_type": "stream",
          "name": "stdout",
          "text": [
            "Save checkpoints to: /content/drive/MyDrive/Hybrid_Rec_Sys/bert-base-uncased-2024-12-07_21-14-52\n"
          ]
        }
      ],
      "source": [
        "output_dir = \"/content/drive/MyDrive/Hybrid_Rec_Sys/{}-{}\".format(model_name.replace(\"/\", \"_\"), datetime.now().strftime(\"%Y-%m-%d_%H-%M-%S\"))\n",
        "print(\"Save checkpoints to:\", output_dir)"
      ]
    },
    {
      "cell_type": "code",
      "execution_count": null,
      "metadata": {
        "id": "7PyPL4VZNjLi"
      },
      "outputs": [],
      "source": [
        "class TokenizedSentencesDataset:\n",
        "    def __init__(self, sentences, tokenizer, max_length, cache_tokenization=False):\n",
        "        self.tokenizer = tokenizer\n",
        "        self.sentences = sentences\n",
        "        self.max_length = max_length\n",
        "        self.cache_tokenization = cache_tokenization\n",
        "\n",
        "    def __getitem__(self, item):\n",
        "        if not self.cache_tokenization:\n",
        "            return self.tokenizer(\n",
        "                self.sentences[item],\n",
        "                add_special_tokens=True,\n",
        "                truncation=True,\n",
        "                max_length=self.max_length,\n",
        "                return_special_tokens_mask=True,\n",
        "            )\n",
        "\n",
        "        if isinstance(self.sentences[item], str):\n",
        "            self.sentences[item] = self.tokenizer(\n",
        "                self.sentences[item],\n",
        "                add_special_tokens=True,\n",
        "                truncation=True,\n",
        "                max_length=self.max_length,\n",
        "                return_special_tokens_mask=True,\n",
        "            )\n",
        "        return self.sentences[item]\n",
        "\n",
        "    def __len__(self):\n",
        "        return len(self.sentences)\n"
      ]
    },
    {
      "cell_type": "code",
      "execution_count": null,
      "metadata": {
        "id": "yDX6xA6Vbby4"
      },
      "outputs": [],
      "source": [
        "train_dataset = TokenizedSentencesDataset(train_sentences, tokenizer, max_length)\n",
        "# dev_sentences = []\n",
        "dev_dataset = (\n",
        "    TokenizedSentencesDataset(dev_sentences, tokenizer, max_length, cache_tokenization=True)\n",
        "    if len(dev_sentences) > 0\n",
        "    else None\n",
        ")"
      ]
    },
    {
      "cell_type": "code",
      "execution_count": null,
      "metadata": {
        "id": "Y14l-iqzbwgN"
      },
      "outputs": [],
      "source": [
        "if do_whole_word_mask:\n",
        "    data_collator = DataCollatorForWholeWordMask(tokenizer=tokenizer, mlm=True, mlm_probability=mlm_prob)\n",
        "else:\n",
        "    data_collator = DataCollatorForLanguageModeling(tokenizer=tokenizer, mlm=True, mlm_probability=mlm_prob)"
      ]
    },
    {
      "cell_type": "code",
      "execution_count": null,
      "metadata": {
        "id": "U1olk6VkdJq5",
        "colab": {
          "base_uri": "https://localhost:8080/"
        },
        "outputId": "acf176d4-845b-4e4c-ade0-d8f6054dbae7"
      },
      "outputs": [
        {
          "output_type": "stream",
          "name": "stderr",
          "text": [
            "/usr/local/lib/python3.10/dist-packages/transformers/training_args.py:1568: FutureWarning: `evaluation_strategy` is deprecated and will be removed in version 4.46 of 🤗 Transformers. Use `eval_strategy` instead\n",
            "  warnings.warn(\n"
          ]
        }
      ],
      "source": [
        "training_args = TrainingArguments(\n",
        "    output_dir=output_dir,\n",
        "    overwrite_output_dir=True,\n",
        "    num_train_epochs=num_train_epochs,\n",
        "    evaluation_strategy=\"steps\" if dev_dataset is not None else \"no\",\n",
        "    per_device_train_batch_size=per_device_train_batch_size,\n",
        "    eval_steps=save_steps,\n",
        "    save_steps=save_steps,\n",
        "    logging_steps=save_steps,\n",
        "    save_total_limit=1,\n",
        "    prediction_loss_only=True,\n",
        "    fp16=use_fp16,\n",
        "    learning_rate=learning_rate\n",
        ")"
      ]
    },
    {
      "cell_type": "code",
      "source": [
        "# trainer = Trainer(\n",
        "#     model=model, args=training_args, data_collator=data_collator, train_dataset=train_dataset, eval_dataset=dev_dataset\n",
        "# )\n",
        "trainer = Trainer(\n",
        "    model=model, args=training_args, data_collator=data_collator, train_dataset=train_dataset, eval_dataset=dev_dataset\n",
        ")"
      ],
      "metadata": {
        "id": "DRvkxGALDqfe"
      },
      "execution_count": null,
      "outputs": []
    },
    {
      "cell_type": "code",
      "source": [
        "print(\"Save tokenizer to:\", output_dir)\n",
        "tokenizer.save_pretrained(output_dir)"
      ],
      "metadata": {
        "id": "irC62y6lDtco",
        "colab": {
          "base_uri": "https://localhost:8080/"
        },
        "outputId": "9789ea32-f9fb-48d6-aece-adb9a1025ecd"
      },
      "execution_count": null,
      "outputs": [
        {
          "output_type": "stream",
          "name": "stdout",
          "text": [
            "Save tokenizer to: /content/drive/MyDrive/Hybrid_Rec_Sys/bert-base-uncased-2024-12-07_21-14-52\n"
          ]
        },
        {
          "output_type": "execute_result",
          "data": {
            "text/plain": [
              "('/content/drive/MyDrive/Hybrid_Rec_Sys/bert-base-uncased-2024-12-07_21-14-52/tokenizer_config.json',\n",
              " '/content/drive/MyDrive/Hybrid_Rec_Sys/bert-base-uncased-2024-12-07_21-14-52/special_tokens_map.json',\n",
              " '/content/drive/MyDrive/Hybrid_Rec_Sys/bert-base-uncased-2024-12-07_21-14-52/vocab.txt',\n",
              " '/content/drive/MyDrive/Hybrid_Rec_Sys/bert-base-uncased-2024-12-07_21-14-52/added_tokens.json',\n",
              " '/content/drive/MyDrive/Hybrid_Rec_Sys/bert-base-uncased-2024-12-07_21-14-52/tokenizer.json')"
            ]
          },
          "metadata": {},
          "execution_count": 42
        }
      ]
    },
    {
      "cell_type": "code",
      "source": [
        "trainer.train()\n",
        "print(\"Save model to:\", output_dir)\n",
        "model.save_pretrained(output_dir)\n",
        "\n",
        "print(\"Training done\")"
      ],
      "metadata": {
        "id": "pQ1yuGVNDxJB",
        "colab": {
          "base_uri": "https://localhost:8080/",
          "height": 638
        },
        "outputId": "656545fa-abdc-4676-9f5d-7d0e543bc573"
      },
      "execution_count": null,
      "outputs": [
        {
          "output_type": "stream",
          "name": "stderr",
          "text": [
            "\u001b[34m\u001b[1mwandb\u001b[0m: \u001b[33mWARNING\u001b[0m The `run_name` is currently set to the same value as `TrainingArguments.output_dir`. If this was not intended, please specify a different run name by setting the `TrainingArguments.run_name` parameter.\n",
            "\u001b[34m\u001b[1mwandb\u001b[0m: Using wandb-core as the SDK backend.  Please refer to https://wandb.me/wandb-core for more information.\n"
          ]
        },
        {
          "output_type": "display_data",
          "data": {
            "text/plain": [
              "<IPython.core.display.Javascript object>"
            ],
            "application/javascript": [
              "\n",
              "        window._wandbApiKey = new Promise((resolve, reject) => {\n",
              "            function loadScript(url) {\n",
              "            return new Promise(function(resolve, reject) {\n",
              "                let newScript = document.createElement(\"script\");\n",
              "                newScript.onerror = reject;\n",
              "                newScript.onload = resolve;\n",
              "                document.body.appendChild(newScript);\n",
              "                newScript.src = url;\n",
              "            });\n",
              "            }\n",
              "            loadScript(\"https://cdn.jsdelivr.net/npm/postmate/build/postmate.min.js\").then(() => {\n",
              "            const iframe = document.createElement('iframe')\n",
              "            iframe.style.cssText = \"width:0;height:0;border:none\"\n",
              "            document.body.appendChild(iframe)\n",
              "            const handshake = new Postmate({\n",
              "                container: iframe,\n",
              "                url: 'https://wandb.ai/authorize'\n",
              "            });\n",
              "            const timeout = setTimeout(() => reject(\"Couldn't auto authenticate\"), 5000)\n",
              "            handshake.then(function(child) {\n",
              "                child.on('authorize', data => {\n",
              "                    clearTimeout(timeout)\n",
              "                    resolve(data)\n",
              "                });\n",
              "            });\n",
              "            })\n",
              "        });\n",
              "    "
            ]
          },
          "metadata": {}
        },
        {
          "output_type": "stream",
          "name": "stderr",
          "text": [
            "\u001b[34m\u001b[1mwandb\u001b[0m: Logging into wandb.ai. (Learn how to deploy a W&B server locally: https://wandb.me/wandb-server)\n",
            "\u001b[34m\u001b[1mwandb\u001b[0m: You can find your API key in your browser here: https://wandb.ai/authorize\n",
            "wandb: Paste an API key from your profile and hit enter, or press ctrl+c to quit:"
          ]
        },
        {
          "name": "stdout",
          "output_type": "stream",
          "text": [
            " ··········\n"
          ]
        },
        {
          "output_type": "stream",
          "name": "stderr",
          "text": [
            "\u001b[34m\u001b[1mwandb\u001b[0m: Appending key for api.wandb.ai to your netrc file: /root/.netrc\n"
          ]
        },
        {
          "output_type": "display_data",
          "data": {
            "text/plain": [
              "<IPython.core.display.HTML object>"
            ],
            "text/html": [
              "Tracking run with wandb version 0.18.7"
            ]
          },
          "metadata": {}
        },
        {
          "output_type": "display_data",
          "data": {
            "text/plain": [
              "<IPython.core.display.HTML object>"
            ],
            "text/html": [
              "Run data is saved locally in <code>/content/wandb/run-20241207_211713-dm7ln77g</code>"
            ]
          },
          "metadata": {}
        },
        {
          "output_type": "display_data",
          "data": {
            "text/plain": [
              "<IPython.core.display.HTML object>"
            ],
            "text/html": [
              "Syncing run <strong><a href='https://wandb.ai/czhang35-university-of-maryland/huggingface/runs/dm7ln77g' target=\"_blank\">/content/drive/MyDrive/Hybrid_Rec_Sys/bert-base-uncased-2024-12-07_21-14-52</a></strong> to <a href='https://wandb.ai/czhang35-university-of-maryland/huggingface' target=\"_blank\">Weights & Biases</a> (<a href='https://wandb.me/developer-guide' target=\"_blank\">docs</a>)<br/>"
            ]
          },
          "metadata": {}
        },
        {
          "output_type": "display_data",
          "data": {
            "text/plain": [
              "<IPython.core.display.HTML object>"
            ],
            "text/html": [
              " View project at <a href='https://wandb.ai/czhang35-university-of-maryland/huggingface' target=\"_blank\">https://wandb.ai/czhang35-university-of-maryland/huggingface</a>"
            ]
          },
          "metadata": {}
        },
        {
          "output_type": "display_data",
          "data": {
            "text/plain": [
              "<IPython.core.display.HTML object>"
            ],
            "text/html": [
              " View run at <a href='https://wandb.ai/czhang35-university-of-maryland/huggingface/runs/dm7ln77g' target=\"_blank\">https://wandb.ai/czhang35-university-of-maryland/huggingface/runs/dm7ln77g</a>"
            ]
          },
          "metadata": {}
        },
        {
          "output_type": "stream",
          "name": "stderr",
          "text": [
            "We strongly recommend passing in an `attention_mask` since your input_ids may be padded. See https://huggingface.co/docs/transformers/troubleshooting#incorrect-output-when-padding-tokens-arent-masked.\n"
          ]
        },
        {
          "output_type": "display_data",
          "data": {
            "text/plain": [
              "<IPython.core.display.HTML object>"
            ],
            "text/html": [
              "\n",
              "    <div>\n",
              "      \n",
              "      <progress value='9618' max='9618' style='width:300px; height:20px; vertical-align: middle;'></progress>\n",
              "      [9618/9618 58:38, Epoch 3/3]\n",
              "    </div>\n",
              "    <table border=\"1\" class=\"dataframe\">\n",
              "  <thead>\n",
              " <tr style=\"text-align: left;\">\n",
              "      <th>Step</th>\n",
              "      <th>Training Loss</th>\n",
              "      <th>Validation Loss</th>\n",
              "    </tr>\n",
              "  </thead>\n",
              "  <tbody>\n",
              "    <tr>\n",
              "      <td>1000</td>\n",
              "      <td>2.214600</td>\n",
              "      <td>1.839947</td>\n",
              "    </tr>\n",
              "    <tr>\n",
              "      <td>2000</td>\n",
              "      <td>1.949800</td>\n",
              "      <td>1.740839</td>\n",
              "    </tr>\n",
              "    <tr>\n",
              "      <td>3000</td>\n",
              "      <td>1.851000</td>\n",
              "      <td>1.669927</td>\n",
              "    </tr>\n",
              "    <tr>\n",
              "      <td>4000</td>\n",
              "      <td>1.765800</td>\n",
              "      <td>1.619567</td>\n",
              "    </tr>\n",
              "    <tr>\n",
              "      <td>5000</td>\n",
              "      <td>1.746900</td>\n",
              "      <td>1.593121</td>\n",
              "    </tr>\n",
              "    <tr>\n",
              "      <td>6000</td>\n",
              "      <td>1.701000</td>\n",
              "      <td>1.563355</td>\n",
              "    </tr>\n",
              "    <tr>\n",
              "      <td>7000</td>\n",
              "      <td>1.677000</td>\n",
              "      <td>1.544158</td>\n",
              "    </tr>\n",
              "    <tr>\n",
              "      <td>8000</td>\n",
              "      <td>1.634400</td>\n",
              "      <td>1.530109</td>\n",
              "    </tr>\n",
              "    <tr>\n",
              "      <td>9000</td>\n",
              "      <td>1.617100</td>\n",
              "      <td>1.507897</td>\n",
              "    </tr>\n",
              "  </tbody>\n",
              "</table><p>"
            ]
          },
          "metadata": {}
        },
        {
          "output_type": "stream",
          "name": "stdout",
          "text": [
            "Save model to: /content/drive/MyDrive/Hybrid_Rec_Sys/bert-base-uncased-2024-12-07_21-14-52\n",
            "Training done\n"
          ]
        }
      ]
    },
    {
      "cell_type": "code",
      "source": [
        "loss_values = trainer.state.log_history\n",
        "losses = [entry['loss'] for entry in loss_values if 'loss' in entry]\n",
        "steps = list(range(1, len(losses) + 1))\n"
      ],
      "metadata": {
        "id": "9nQ1j1UKSJxw"
      },
      "execution_count": null,
      "outputs": []
    },
    {
      "cell_type": "code",
      "source": [
        "import matplotlib.pyplot as plt\n",
        "plt.figure(figsize=(10, 6))\n",
        "plt.plot(steps, losses, label='Training Loss')\n",
        "plt.xlabel('Steps')\n",
        "plt.ylabel('Loss')\n",
        "plt.title('Loss Curve')\n",
        "plt.legend()\n",
        "plt.grid()\n",
        "plt.show()"
      ],
      "metadata": {
        "colab": {
          "base_uri": "https://localhost:8080/",
          "height": 564
        },
        "id": "1NqcKqzhcT_C",
        "outputId": "383cc603-d8f9-4a74-ba0f-c65e19fe0e2c"
      },
      "execution_count": null,
      "outputs": [
        {
          "output_type": "display_data",
          "data": {
            "text/plain": [
              "<Figure size 1000x600 with 1 Axes>"
            ],
            "image/png": "[encoded data removed]"
          },
          "metadata": {}
        }
      ]
    },
    {
      "cell_type": "code",
      "source": [
        "model_dir = '/content/drive/MyDrive/Hybrid_Rec_Sys/best_model'"
      ],
      "metadata": {
        "id": "ZWpyAvaWSQmt"
      },
      "execution_count": null,
      "outputs": []
    },
    {
      "cell_type": "code",
      "source": [
        "tokenizer = AutoTokenizer.from_pretrained(model_dir)\n",
        "model = AutoModel.from_pretrained(model_dir)"
      ],
      "metadata": {
        "colab": {
          "base_uri": "https://localhost:8080/"
        },
        "id": "aTo_YuPjw5Mk",
        "outputId": "3abf61fa-1ee0-4430-8cc1-105b2898fbcc"
      },
      "execution_count": null,
      "outputs": [
        {
          "output_type": "stream",
          "name": "stderr",
          "text": [
            "Some weights of BertModel were not initialized from the model checkpoint at /content/drive/MyDrive/Hybrid_Rec_Sys/best_model and are newly initialized: ['bert.pooler.dense.bias', 'bert.pooler.dense.weight']\n",
            "You should probably TRAIN this model on a down-stream task to be able to use it for predictions and inference.\n"
          ]
        }
      ]
    },
    {
      "cell_type": "markdown",
      "source": [
        "**Content-based Filter**"
      ],
      "metadata": {
        "id": "Z30dqL1F_1AF"
      }
    },
    {
      "cell_type": "code",
      "source": [
        "# Define the functions\n",
        "def preprocess_news_info(dev_news):\n",
        "    \"\"\"\n",
        "    Preprocess dev_news to filter out news_info entries with raw string length > 512.\n",
        "    \"\"\"\n",
        "    dev_news = dev_news[dev_news['news_info'].str.len() < 512]\n",
        "    return dev_news.reset_index(drop=True)\n",
        "\n",
        "def get_embeddings(texts, tokenizer, model, device=\"cuda\"):\n",
        "    \"\"\"\n",
        "    Get embeddings for a batch of sentences.\n",
        "    \"\"\"\n",
        "    inputs = tokenizer(texts, return_tensors=\"pt\", padding=True, truncation=True).to(device)\n",
        "    with torch.no_grad():\n",
        "        outputs = model(**inputs)\n",
        "    cls_embeddings = outputs.last_hidden_state[:, 0, :]  # CLS token embeddings\n",
        "    return cls_embeddings\n",
        "\n",
        "def calculate_batch_similarity(text1, batch_texts, tokenizer, model, device=\"cuda\"):\n",
        "    \"\"\"\n",
        "    Calculate similarities between a single text and a batch of other texts.\n",
        "    \"\"\"\n",
        "    embedding1 = get_embeddings([text1], tokenizer, model, device)  # Embedding for the anchor sentence\n",
        "    embedding2 = get_embeddings(batch_texts, tokenizer, model, device)  # Batch embeddings\n",
        "    # Compute cosine similarity between text1 and all batch_texts\n",
        "    similarities = torch.nn.functional.cosine_similarity(embedding1, embedding2).cpu().numpy()\n",
        "    return similarities\n"
      ],
      "metadata": {
        "id": "-aiJxxilABhA"
      },
      "execution_count": null,
      "outputs": []
    },
    {
      "cell_type": "code",
      "source": [
        "user_id = \"U80234\"\n",
        "device = \"cuda\"\n",
        "model.to(device)\n",
        "user_history = dev_users[dev_users['user_id'] == user_id]['history'].values\n",
        "history = user_history[0]\n",
        "\n",
        "cbf_recs = {}\n",
        "\n",
        "user_history_idx = 0\n",
        "for id in history:\n",
        "    all_sim = []\n",
        "    row = dev_news[dev_news['news_id'] == id]\n",
        "    if not row.empty:\n",
        "        sub = row['sub_category'].values[0]\n",
        "        info = row['news_info'].values[0]\n",
        "        group = grouped_news[sub]\n",
        "        info_group = [group[i]['news_info'] for i in range(len(group))]\n",
        "        id_group = [group[i]['news_id'] for i in range(len(group))]\n",
        "        title_group = [group[i]['title'] for i in range(len(group))]\n",
        "\n",
        "        dataloader = DataLoader(info_group, batch_size=512, shuffle=False)\n",
        "        for batch in dataloader:\n",
        "            similarities = calculate_batch_similarity(info, list(batch), tokenizer, model, device)\n",
        "            all_sim.extend(zip(id_group, similarities))\n",
        "\n",
        "        # Get top 5 similar articles (excluding the first one, which might be the article itself)\n",
        "        top = sorted(all_sim, key=lambda x: x[1], reverse=True)[1]\n",
        "        # print(top)\n",
        "        # # Print base article info\n",
        "        # print(user_history_idx)\n",
        "        # print(\"Article ID:\", id)\n",
        "        # print(\"Title:\", row['title'].values[0])\n",
        "        # print(\"Top 5 Most Relevant Articles:\")\n",
        "        # Print each of the top 5 recommended articles with their ID, info, and similarity score\n",
        "        rec_id = top[0]\n",
        "        sim_score = top[1]\n",
        "        rec_info = dev_news[dev_news['news_id'] == rec_id]['news_info'].values[0]\n",
        "        rec_title = title_group[idx]\n",
        "        cbf_recs[rec_id] = rec_title\n",
        "        print(f\"ID: {rec_id}, Title: {rec_title}, Similarity: {sim_score:.4f}\")\n",
        "    user_history_idx += 1\n"
      ],
      "metadata": {
        "colab": {
          "base_uri": "https://localhost:8080/"
        },
        "id": "TRBxAB9bAKLA",
        "outputId": "4652de46-b7de-4c05-f436-816e0b61042a"
      },
      "execution_count": null,
      "outputs": [
        {
          "output_type": "stream",
          "name": "stdout",
          "text": [
            "ID: N64240, Title: All the Things You Didn't Know About 'The Crown', Similarity: 0.7984\n",
            "ID: N7232, Title: Ikea US president backpedals on meeting parents of children killed by recalled dressers, Similarity: 0.8729\n",
            "ID: N56518, Title: 'Bachelor's Amanda Stanton Is Dating 'Rich Kids of Beverly Hills' Star Brendan Fitzpatrick, Similarity: 0.9430\n",
            "ID: N49564, Title: Ikea US president backpedals on meeting parents of children killed by recalled dressers, Similarity: 0.7939\n",
            "ID: N2028, Title: More store closings coming: The list of retailers closing locations in 2019, Similarity: 0.8573\n",
            "ID: N24566, Title: Trying to Make a Ram 3500 as Quick as a Viper Requires Some Disassembly, Similarity: 0.9031\n",
            "ID: N59742, Title: 'Bachelor's Amanda Stanton Is Dating 'Rich Kids of Beverly Hills' Star Brendan Fitzpatrick, Similarity: 0.8804\n",
            "ID: N50456, Title: Celebrities at their Hollywood hand and footprint ceremonies, Similarity: 0.8891\n",
            "ID: N26262, Title: Louisville's own Jennifer Lawrence ties the knot in a private ceremony, reports say, Similarity: 0.8791\n",
            "ID: N28359, Title: Man taken into custody after SWAT situation at large Milton home, Similarity: 0.8703\n",
            "ID: N17340, Title: The Brands Queen Elizabeth, Prince Charles, and Prince Philip Swear By, Similarity: 0.8987\n",
            "ID: N37822, Title: Ikea US president backpedals on meeting parents of children killed by recalled dressers, Similarity: 0.8861\n",
            "ID: N64941, Title: Elijah Cummings to lie in state at US Capitol Thursday, Similarity: 0.8984\n",
            "ID: N44111, Title: 14 Celebs Over 50 Who Are In The Best Shape Of Their Lives, Similarity: 0.8778\n",
            "ID: N27079, Title: All the Things You Didn't Know About 'The Crown', Similarity: 0.8836\n"
          ]
        }
      ]
    },
    {
      "cell_type": "markdown",
      "source": [
        "**Collaborative Filtering**"
      ],
      "metadata": {
        "id": "NGBR5v1EAeG8"
      }
    },
    {
      "cell_type": "code",
      "source": [
        "group_users_by_news = {}\n",
        "user_scores = {}\n",
        "\n",
        "for _, row in dev_users.iterrows():\n",
        "    user_id = row[\"user_id\"]\n",
        "    his_list = row[\"history\"]\n",
        "\n",
        "    if user_id not in user_scores:\n",
        "        user_scores[user_id] = 0\n",
        "\n",
        "    for his in his_list:\n",
        "        if his not in group_users_by_news:\n",
        "            group_users_by_news[his] = set()\n",
        "        group_users_by_news[his].add(user_id)"
      ],
      "metadata": {
        "id": "NRFewsJZAtGe"
      },
      "execution_count": null,
      "outputs": []
    },
    {
      "cell_type": "code",
      "source": [
        "\n",
        "\n",
        "\n",
        "def get_user_rec(user, tokenizer, model, group_users_by_news, user_scores):\n",
        "\n",
        "  def calculate_scores(user_id_to_set):\n",
        "    for id in user_id_to_set:\n",
        "      user_scores[id] = 1\n",
        "\n",
        "    scores_by_his = {}\n",
        "    for his, user_ids in group_users_by_news.items():\n",
        "        scores_by_his[his] = sum(user_scores[user_id] for user_id in user_ids)\n",
        "\n",
        "    sorted_scores = sorted(scores_by_his.items(), key=lambda x: -x[1])\n",
        "\n",
        "    for id in user_id_to_set:\n",
        "      user_scores[id] = 0\n",
        "\n",
        "    return dict(list(scores_by_his.items())[:5])\n",
        "\n",
        "  def get_score(news):\n",
        "    if news not in group_users_by_news:\n",
        "        return {}\n",
        "    user_ids = group_users_by_news[news]\n",
        "    return calculate_scores(user_ids)\n",
        "\n",
        "\n",
        "  history = user[\"history\"]\n",
        "  top = defaultdict(int)\n",
        "  for his in history:\n",
        "    scores = get_score(his)\n",
        "\n",
        "    for news, score in scores.items():\n",
        "      top[news] += score\n",
        "\n",
        "  sorted_top = dict(sorted(top.items()))\n",
        "  if len(sorted_top) > 10:\n",
        "    return dict(list(sorted_top.items())[:10])\n",
        "  else:\n",
        "    return sorted_top"
      ],
      "metadata": {
        "id": "wXOj10StAx6X"
      },
      "execution_count": null,
      "outputs": []
    },
    {
      "cell_type": "code",
      "source": [
        "sample = dev_users.iloc[0]\n",
        "\n",
        "cf_recs = get_user_rec(sample, tokenizer, model, group_users_by_news, user_scores)"
      ],
      "metadata": {
        "id": "HTqb01Xt398a"
      },
      "execution_count": null,
      "outputs": []
    },
    {
      "cell_type": "markdown",
      "source": [
        "**Combining both filters**"
      ],
      "metadata": {
        "id": "Q7ROGEZ03ZJd"
      }
    },
    {
      "cell_type": "code",
      "source": [
        "for news_id in sample['history']:\n",
        "    title = dev_news.loc[dev_news['news_id'] == news_id, 'title'].values\n",
        "\n",
        "    if title:\n",
        "        print(f\"News ID: {news_id}, Title: {title[0]}\")\n",
        "    else:\n",
        "        print(f\"News ID: {news_id} not found in dev_news\")"
      ],
      "metadata": {
        "colab": {
          "base_uri": "https://localhost:8080/"
        },
        "id": "gbB1S2W-ygHL",
        "outputId": "2b50452b-1319-49df-d0f9-8600043832b8"
      },
      "execution_count": null,
      "outputs": [
        {
          "output_type": "stream",
          "name": "stdout",
          "text": [
            "News ID: N55189, Title: 'Wheel Of Fortune' Guest Delivers Hilarious, Off The Rails Introduction\n",
            "News ID: N46039, Title: Hard Rock Hotel New Orleans collapse: Former site engineer weighs in\n",
            "News ID: N51741, Title: Felicity Huffman begins prison sentence for college admissions scam\n",
            "News ID: N53234, Title: Outer Banks storms unearth old shipwreck from 'Graveyard of the Atlantic'\n",
            "News ID: N11276, Title: Tiffany's is selling a holiday advent calendar for $112,000\n",
            "News ID: N264, Title: This restored 1968 Winnebago is beyond adorable\n",
            "News ID: N40716, Title: Lori Loughlin Is 'Absolutely Terrified' After Being Hit With New Charge\n",
            "News ID: N28088, Title: Bruce Willis brought Demi Moore to tears after reading her book\n",
            "News ID: N43955, Title: Celebrity kids then and now: See how they've grown\n",
            "News ID: N6616, Title: Felicity Huffman Smiles as She Begins Community Service Following Prison Release\n",
            "News ID: N47686, Title: Queen Elizabeth Finally Had Her Dream Photoshoot, Thanks to Royal Dresser Angela Kelly\n",
            "News ID: N63573, Title: Hundreds of thousands of people in California are downriver of a dam that 'could fail'\n",
            "News ID: N38895, Title: Alexandria Ocasio-Cortez 'sincerely' apologizes for blocking ex-Brooklyn politician on Twitter, settles federal lawsuit\n",
            "News ID: N30924, Title: The Rock's Gnarly Palm Is a Testament to Life Without Lifting Gloves\n",
            "News ID: N35671, Title: Donald Trump Jr. reflects on explosive 'View' chat: 'I don't think they like me much anymore'\n"
          ]
        }
      ]
    },
    {
      "cell_type": "code",
      "source": [],
      "metadata": {
        "colab": {
          "base_uri": "https://localhost:8080/"
        },
        "id": "2zsVg_2T3Twm",
        "outputId": "878ad9c8-f3cf-406b-8749-a35dbe6ca3aa"
      },
      "execution_count": null,
      "outputs": [
        {
          "output_type": "stream",
          "name": "stdout",
          "text": [
            "News ID: N59742, Title: Milania Giudice Says She'll See Dad Joe 'Soon' After He Leaves ICE Custody\n",
            "News ID: N64240, Title: P.K. Subban Gives Inside Look at New Life in New Jersey with Fiancée Lindsey Vonn in YouTube Video\n",
            "News ID: N49564, Title: Halloween snow prompts Milwaukee-area communities to reschedule planned trick-or-treat hours\n",
            "News ID: N27079, Title: Donald Trump Jr slams The View Host Sunny Hostin by asking what it's like to be paid by a network that 'protected pedophile - rapist Jeffrey Epstein' in war of words on Twitter\n",
            "News ID: N37822, Title: Market car bomb kills at least 13 near Syrian-Turkish border\n"
          ]
        }
      ]
    },
    {
      "cell_type": "code",
      "source": [
        "import random\n",
        "\n",
        "sampled_news_ids = random.sample(list(cbf_recs.keys()), min(5, len(cbf_recs)))\n",
        "\n",
        "for news_id in sampled_news_ids:\n",
        "    title = dev_news.loc[dev_news['news_id'] == news_id, 'title'].values\n",
        "\n",
        "    if title:\n",
        "        print(f\"News ID: {news_id}, Title: {title[0]}\")\n",
        "    else:\n",
        "        print(f\"News ID: {news_id} not found in dev_news\")\n",
        "\n",
        "print(\"======================\")\n",
        "\n",
        "\n",
        "for news_id in cf_recs.keys():\n",
        "    title = dev_news.loc[dev_news['news_id'] == news_id, 'title'].values\n",
        "\n",
        "    if title:\n",
        "        print(f\"News ID: {news_id}, Title: {title[0]}\")\n",
        "    else:\n",
        "        print(f\"News ID: {news_id} not found in dev_news\")\n"
      ],
      "metadata": {
        "colab": {
          "base_uri": "https://localhost:8080/"
        },
        "id": "AXuoBTPG3uzT",
        "outputId": "6b91bb45-eb35-4c32-80da-e3002a44259d"
      },
      "execution_count": null,
      "outputs": [
        {
          "output_type": "stream",
          "name": "stdout",
          "text": [
            "News ID: N49564, Title: Halloween snow prompts Milwaukee-area communities to reschedule planned trick-or-treat hours\n",
            "News ID: N50456, Title: Demi Moore's daughter reveals her mother's battle with addiction was like 'a monster came'\n",
            "News ID: N37822, Title: Market car bomb kills at least 13 near Syrian-Turkish border\n",
            "News ID: N7232, Title: In photos: California Wildfires\n",
            "News ID: N56518, Title: Felicity Huffman Released From Prison Before End of 14-Day Sentence\n",
            "======================\n",
            "News ID: N11276, Title: Tiffany's is selling a holiday advent calendar for $112,000\n",
            "News ID: N46039, Title: Hard Rock Hotel New Orleans collapse: Former site engineer weighs in\n",
            "News ID: N51741, Title: Felicity Huffman begins prison sentence for college admissions scam\n",
            "News ID: N53234, Title: Outer Banks storms unearth old shipwreck from 'Graveyard of the Atlantic'\n",
            "News ID: N55189, Title: 'Wheel Of Fortune' Guest Delivers Hilarious, Off The Rails Introduction\n"
          ]
        }
      ]
    },
    {
      "cell_type": "code",
      "source": [],
      "metadata": {
        "id": "mZFZoOYI4FZI"
      },
      "execution_count": null,
      "outputs": []
    }
  ],
  "metadata": {
    "accelerator": "GPU",
    "colab": {
      "gpuType": "T4",
      "provenance": []
    },
    "kernelspec": {
      "display_name": "Python 3",
      "name": "python3"
    },
    "language_info": {
      "name": "python"
    },
    "widgets": {
      "application/vnd.jupyter.widget-state+json": {
        "c580597ac9d842d6aba5d938ed075c5f": {
          "model_module": "@jupyter-widgets/controls",
          "model_name": "HBoxModel",
          "model_module_version": "1.5.0",
          "state": {
            "_dom_classes": [],
            "_model_module": "@jupyter-widgets/controls",
            "_model_module_version": "1.5.0",
            "_model_name": "HBoxModel",
            "_view_count": null,
            "_view_module": "@jupyter-widgets/controls",
            "_view_module_version": "1.5.0",
            "_view_name": "HBoxView",
            "box_style": "",
            "children": [
              "IPY_MODEL_526b667ac7e04e658f360b575751179d",
              "IPY_MODEL_ad0457c705e042468bfa81b4c458b08f",
              "IPY_MODEL_14febfeea1474ceab8e51c15c951d345"
            ],
            "layout": "IPY_MODEL_48b6f30f8ca64864a079a6d27ec93549"
          }
        },
        "526b667ac7e04e658f360b575751179d": {
          "model_module": "@jupyter-widgets/controls",
          "model_name": "HTMLModel",
          "model_module_version": "1.5.0",
          "state": {
            "_dom_classes": [],
            "_model_module": "@jupyter-widgets/controls",
            "_model_module_version": "1.5.0",
            "_model_name": "HTMLModel",
            "_view_count": null,
            "_view_module": "@jupyter-widgets/controls",
            "_view_module_version": "1.5.0",
            "_view_name": "HTMLView",
            "description": "",
            "description_tooltip": null,
            "layout": "IPY_MODEL_c188395057894af4afff824d311449c7",
            "placeholder": "​",
            "style": "IPY_MODEL_5244f6d33caf4c9db9ee73bfe27cf7f4",
            "value": "config.json: 100%"
          }
        },
        "ad0457c705e042468bfa81b4c458b08f": {
          "model_module": "@jupyter-widgets/controls",
          "model_name": "FloatProgressModel",
          "model_module_version": "1.5.0",
          "state": {
            "_dom_classes": [],
            "_model_module": "@jupyter-widgets/controls",
            "_model_module_version": "1.5.0",
            "_model_name": "FloatProgressModel",
            "_view_count": null,
            "_view_module": "@jupyter-widgets/controls",
            "_view_module_version": "1.5.0",
            "_view_name": "ProgressView",
            "bar_style": "success",
            "description": "",
            "description_tooltip": null,
            "layout": "IPY_MODEL_38b1d9a6f5bd4130866f872bc48e05ea",
            "max": 570,
            "min": 0,
            "orientation": "horizontal",
            "style": "IPY_MODEL_750486a94af34ddb88b1520bfddd8bfb",
            "value": 570
          }
        },
        "14febfeea1474ceab8e51c15c951d345": {
          "model_module": "@jupyter-widgets/controls",
          "model_name": "HTMLModel",
          "model_module_version": "1.5.0",
          "state": {
            "_dom_classes": [],
            "_model_module": "@jupyter-widgets/controls",
            "_model_module_version": "1.5.0",
            "_model_name": "HTMLModel",
            "_view_count": null,
            "_view_module": "@jupyter-widgets/controls",
            "_view_module_version": "1.5.0",
            "_view_name": "HTMLView",
            "description": "",
            "description_tooltip": null,
            "layout": "IPY_MODEL_88d7c88f0d6b4579b9f412b9ae638a00",
            "placeholder": "​",
            "style": "IPY_MODEL_a6c67f1941c24e4999577d5db58b9c3a",
            "value": " 570/570 [00:00&lt;00:00, 21.0kB/s]"
          }
        },
        "48b6f30f8ca64864a079a6d27ec93549": {
          "model_module": "@jupyter-widgets/base",
          "model_name": "LayoutModel",
          "model_module_version": "1.2.0",
          "state": {
            "_model_module": "@jupyter-widgets/base",
            "_model_module_version": "1.2.0",
            "_model_name": "LayoutModel",
            "_view_count": null,
            "_view_module": "@jupyter-widgets/base",
            "_view_module_version": "1.2.0",
            "_view_name": "LayoutView",
            "align_content": null,
            "align_items": null,
            "align_self": null,
            "border": null,
            "bottom": null,
            "display": null,
            "flex": null,
            "flex_flow": null,
            "grid_area": null,
            "grid_auto_columns": null,
            "grid_auto_flow": null,
            "grid_auto_rows": null,
            "grid_column": null,
            "grid_gap": null,
            "grid_row": null,
            "grid_template_areas": null,
            "grid_template_columns": null,
            "grid_template_rows": null,
            "height": null,
            "justify_content": null,
            "justify_items": null,
            "left": null,
            "margin": null,
            "max_height": null,
            "max_width": null,
            "min_height": null,
            "min_width": null,
            "object_fit": null,
            "object_position": null,
            "order": null,
            "overflow": null,
            "overflow_x": null,
            "overflow_y": null,
            "padding": null,
            "right": null,
            "top": null,
            "visibility": null,
            "width": null
          }
        },
        "c188395057894af4afff824d311449c7": {
          "model_module": "@jupyter-widgets/base",
          "model_name": "LayoutModel",
          "model_module_version": "1.2.0",
          "state": {
            "_model_module": "@jupyter-widgets/base",
            "_model_module_version": "1.2.0",
            "_model_name": "LayoutModel",
            "_view_count": null,
            "_view_module": "@jupyter-widgets/base",
            "_view_module_version": "1.2.0",
            "_view_name": "LayoutView",
            "align_content": null,
            "align_items": null,
            "align_self": null,
            "border": null,
            "bottom": null,
            "display": null,
            "flex": null,
            "flex_flow": null,
            "grid_area": null,
            "grid_auto_columns": null,
            "grid_auto_flow": null,
            "grid_auto_rows": null,
            "grid_column": null,
            "grid_gap": null,
            "grid_row": null,
            "grid_template_areas": null,
            "grid_template_columns": null,
            "grid_template_rows": null,
            "height": null,
            "justify_content": null,
            "justify_items": null,
            "left": null,
            "margin": null,
            "max_height": null,
            "max_width": null,
            "min_height": null,
            "min_width": null,
            "object_fit": null,
            "object_position": null,
            "order": null,
            "overflow": null,
            "overflow_x": null,
            "overflow_y": null,
            "padding": null,
            "right": null,
            "top": null,
            "visibility": null,
            "width": null
          }
        },
        "5244f6d33caf4c9db9ee73bfe27cf7f4": {
          "model_module": "@jupyter-widgets/controls",
          "model_name": "DescriptionStyleModel",
          "model_module_version": "1.5.0",
          "state": {
            "_model_module": "@jupyter-widgets/controls",
            "_model_module_version": "1.5.0",
            "_model_name": "DescriptionStyleModel",
            "_view_count": null,
            "_view_module": "@jupyter-widgets/base",
            "_view_module_version": "1.2.0",
            "_view_name": "StyleView",
            "description_width": ""
          }
        },
        "38b1d9a6f5bd4130866f872bc48e05ea": {
          "model_module": "@jupyter-widgets/base",
          "model_name": "LayoutModel",
          "model_module_version": "1.2.0",
          "state": {
            "_model_module": "@jupyter-widgets/base",
            "_model_module_version": "1.2.0",
            "_model_name": "LayoutModel",
            "_view_count": null,
            "_view_module": "@jupyter-widgets/base",
            "_view_module_version": "1.2.0",
            "_view_name": "LayoutView",
            "align_content": null,
            "align_items": null,
            "align_self": null,
            "border": null,
            "bottom": null,
            "display": null,
            "flex": null,
            "flex_flow": null,
            "grid_area": null,
            "grid_auto_columns": null,
            "grid_auto_flow": null,
            "grid_auto_rows": null,
            "grid_column": null,
            "grid_gap": null,
            "grid_row": null,
            "grid_template_areas": null,
            "grid_template_columns": null,
            "grid_template_rows": null,
            "height": null,
            "justify_content": null,
            "justify_items": null,
            "left": null,
            "margin": null,
            "max_height": null,
            "max_width": null,
            "min_height": null,
            "min_width": null,
            "object_fit": null,
            "object_position": null,
            "order": null,
            "overflow": null,
            "overflow_x": null,
            "overflow_y": null,
            "padding": null,
            "right": null,
            "top": null,
            "visibility": null,
            "width": null
          }
        },
        "750486a94af34ddb88b1520bfddd8bfb": {
          "model_module": "@jupyter-widgets/controls",
          "model_name": "ProgressStyleModel",
          "model_module_version": "1.5.0",
          "state": {
            "_model_module": "@jupyter-widgets/controls",
            "_model_module_version": "1.5.0",
            "_model_name": "ProgressStyleModel",
            "_view_count": null,
            "_view_module": "@jupyter-widgets/base",
            "_view_module_version": "1.2.0",
            "_view_name": "StyleView",
            "bar_color": null,
            "description_width": ""
          }
        },
        "88d7c88f0d6b4579b9f412b9ae638a00": {
          "model_module": "@jupyter-widgets/base",
          "model_name": "LayoutModel",
          "model_module_version": "1.2.0",
          "state": {
            "_model_module": "@jupyter-widgets/base",
            "_model_module_version": "1.2.0",
            "_model_name": "LayoutModel",
            "_view_count": null,
            "_view_module": "@jupyter-widgets/base",
            "_view_module_version": "1.2.0",
            "_view_name": "LayoutView",
            "align_content": null,
            "align_items": null,
            "align_self": null,
            "border": null,
            "bottom": null,
            "display": null,
            "flex": null,
            "flex_flow": null,
            "grid_area": null,
            "grid_auto_columns": null,
            "grid_auto_flow": null,
            "grid_auto_rows": null,
            "grid_column": null,
            "grid_gap": null,
            "grid_row": null,
            "grid_template_areas": null,
            "grid_template_columns": null,
            "grid_template_rows": null,
            "height": null,
            "justify_content": null,
            "justify_items": null,
            "left": null,
            "margin": null,
            "max_height": null,
            "max_width": null,
            "min_height": null,
            "min_width": null,
            "object_fit": null,
            "object_position": null,
            "order": null,
            "overflow": null,
            "overflow_x": null,
            "overflow_y": null,
            "padding": null,
            "right": null,
            "top": null,
            "visibility": null,
            "width": null
          }
        },
        "a6c67f1941c24e4999577d5db58b9c3a": {
          "model_module": "@jupyter-widgets/controls",
          "model_name": "DescriptionStyleModel",
          "model_module_version": "1.5.0",
          "state": {
            "_model_module": "@jupyter-widgets/controls",
            "_model_module_version": "1.5.0",
            "_model_name": "DescriptionStyleModel",
            "_view_count": null,
            "_view_module": "@jupyter-widgets/base",
            "_view_module_version": "1.2.0",
            "_view_name": "StyleView",
            "description_width": ""
          }
        },
        "2fd10f0327c8466885979aaf49beb1fb": {
          "model_module": "@jupyter-widgets/controls",
          "model_name": "HBoxModel",
          "model_module_version": "1.5.0",
          "state": {
            "_dom_classes": [],
            "_model_module": "@jupyter-widgets/controls",
            "_model_module_version": "1.5.0",
            "_model_name": "HBoxModel",
            "_view_count": null,
            "_view_module": "@jupyter-widgets/controls",
            "_view_module_version": "1.5.0",
            "_view_name": "HBoxView",
            "box_style": "",
            "children": [
              "IPY_MODEL_2df397a69c554d93b85678096b5a80f4",
              "IPY_MODEL_449470947c79447ca3ed8200fae90059",
              "IPY_MODEL_f1224ca1a55d483196560ffb463e80f7"
            ],
            "layout": "IPY_MODEL_446e991916a84899ad54b43486172e85"
          }
        },
        "2df397a69c554d93b85678096b5a80f4": {
          "model_module": "@jupyter-widgets/controls",
          "model_name": "HTMLModel",
          "model_module_version": "1.5.0",
          "state": {
            "_dom_classes": [],
            "_model_module": "@jupyter-widgets/controls",
            "_model_module_version": "1.5.0",
            "_model_name": "HTMLModel",
            "_view_count": null,
            "_view_module": "@jupyter-widgets/controls",
            "_view_module_version": "1.5.0",
            "_view_name": "HTMLView",
            "description": "",
            "description_tooltip": null,
            "layout": "IPY_MODEL_19985b8ae2c84bda9d5d6c4000387d61",
            "placeholder": "​",
            "style": "IPY_MODEL_2d8929aabab142d89edd17df04ca53d4",
            "value": "model.safetensors: 100%"
          }
        },
        "449470947c79447ca3ed8200fae90059": {
          "model_module": "@jupyter-widgets/controls",
          "model_name": "FloatProgressModel",
          "model_module_version": "1.5.0",
          "state": {
            "_dom_classes": [],
            "_model_module": "@jupyter-widgets/controls",
            "_model_module_version": "1.5.0",
            "_model_name": "FloatProgressModel",
            "_view_count": null,
            "_view_module": "@jupyter-widgets/controls",
            "_view_module_version": "1.5.0",
            "_view_name": "ProgressView",
            "bar_style": "success",
            "description": "",
            "description_tooltip": null,
            "layout": "IPY_MODEL_bb4e1b73ee874d59b60cfc608fe17e92",
            "max": 440449768,
            "min": 0,
            "orientation": "horizontal",
            "style": "IPY_MODEL_9bd829e4b74b4f23a5cdd43c66fa681b",
            "value": 440449768
          }
        },
        "f1224ca1a55d483196560ffb463e80f7": {
          "model_module": "@jupyter-widgets/controls",
          "model_name": "HTMLModel",
          "model_module_version": "1.5.0",
          "state": {
            "_dom_classes": [],
            "_model_module": "@jupyter-widgets/controls",
            "_model_module_version": "1.5.0",
            "_model_name": "HTMLModel",
            "_view_count": null,
            "_view_module": "@jupyter-widgets/controls",
            "_view_module_version": "1.5.0",
            "_view_name": "HTMLView",
            "description": "",
            "description_tooltip": null,
            "layout": "IPY_MODEL_beba35c48153487c982cf4245ab89b61",
            "placeholder": "​",
            "style": "IPY_MODEL_c440bf5d088b46e3a1681df6837a58d1",
            "value": " 440M/440M [00:03&lt;00:00, 58.8MB/s]"
          }
        },
        "446e991916a84899ad54b43486172e85": {
          "model_module": "@jupyter-widgets/base",
          "model_name": "LayoutModel",
          "model_module_version": "1.2.0",
          "state": {
            "_model_module": "@jupyter-widgets/base",
            "_model_module_version": "1.2.0",
            "_model_name": "LayoutModel",
            "_view_count": null,
            "_view_module": "@jupyter-widgets/base",
            "_view_module_version": "1.2.0",
            "_view_name": "LayoutView",
            "align_content": null,
            "align_items": null,
            "align_self": null,
            "border": null,
            "bottom": null,
            "display": null,
            "flex": null,
            "flex_flow": null,
            "grid_area": null,
            "grid_auto_columns": null,
            "grid_auto_flow": null,
            "grid_auto_rows": null,
            "grid_column": null,
            "grid_gap": null,
            "grid_row": null,
            "grid_template_areas": null,
            "grid_template_columns": null,
            "grid_template_rows": null,
            "height": null,
            "justify_content": null,
            "justify_items": null,
            "left": null,
            "margin": null,
            "max_height": null,
            "max_width": null,
            "min_height": null,
            "min_width": null,
            "object_fit": null,
            "object_position": null,
            "order": null,
            "overflow": null,
            "overflow_x": null,
            "overflow_y": null,
            "padding": null,
            "right": null,
            "top": null,
            "visibility": null,
            "width": null
          }
        },
        "19985b8ae2c84bda9d5d6c4000387d61": {
          "model_module": "@jupyter-widgets/base",
          "model_name": "LayoutModel",
          "model_module_version": "1.2.0",
          "state": {
            "_model_module": "@jupyter-widgets/base",
            "_model_module_version": "1.2.0",
            "_model_name": "LayoutModel",
            "_view_count": null,
            "_view_module": "@jupyter-widgets/base",
            "_view_module_version": "1.2.0",
            "_view_name": "LayoutView",
            "align_content": null,
            "align_items": null,
            "align_self": null,
            "border": null,
            "bottom": null,
            "display": null,
            "flex": null,
            "flex_flow": null,
            "grid_area": null,
            "grid_auto_columns": null,
            "grid_auto_flow": null,
            "grid_auto_rows": null,
            "grid_column": null,
            "grid_gap": null,
            "grid_row": null,
            "grid_template_areas": null,
            "grid_template_columns": null,
            "grid_template_rows": null,
            "height": null,
            "justify_content": null,
            "justify_items": null,
            "left": null,
            "margin": null,
            "max_height": null,
            "max_width": null,
            "min_height": null,
            "min_width": null,
            "object_fit": null,
            "object_position": null,
            "order": null,
            "overflow": null,
            "overflow_x": null,
            "overflow_y": null,
            "padding": null,
            "right": null,
            "top": null,
            "visibility": null,
            "width": null
          }
        },
        "2d8929aabab142d89edd17df04ca53d4": {
          "model_module": "@jupyter-widgets/controls",
          "model_name": "DescriptionStyleModel",
          "model_module_version": "1.5.0",
          "state": {
            "_model_module": "@jupyter-widgets/controls",
            "_model_module_version": "1.5.0",
            "_model_name": "DescriptionStyleModel",
            "_view_count": null,
            "_view_module": "@jupyter-widgets/base",
            "_view_module_version": "1.2.0",
            "_view_name": "StyleView",
            "description_width": ""
          }
        },
        "bb4e1b73ee874d59b60cfc608fe17e92": {
          "model_module": "@jupyter-widgets/base",
          "model_name": "LayoutModel",
          "model_module_version": "1.2.0",
          "state": {
            "_model_module": "@jupyter-widgets/base",
            "_model_module_version": "1.2.0",
            "_model_name": "LayoutModel",
            "_view_count": null,
            "_view_module": "@jupyter-widgets/base",
            "_view_module_version": "1.2.0",
            "_view_name": "LayoutView",
            "align_content": null,
            "align_items": null,
            "align_self": null,
            "border": null,
            "bottom": null,
            "display": null,
            "flex": null,
            "flex_flow": null,
            "grid_area": null,
            "grid_auto_columns": null,
            "grid_auto_flow": null,
            "grid_auto_rows": null,
            "grid_column": null,
            "grid_gap": null,
            "grid_row": null,
            "grid_template_areas": null,
            "grid_template_columns": null,
            "grid_template_rows": null,
            "height": null,
            "justify_content": null,
            "justify_items": null,
            "left": null,
            "margin": null,
            "max_height": null,
            "max_width": null,
            "min_height": null,
            "min_width": null,
            "object_fit": null,
            "object_position": null,
            "order": null,
            "overflow": null,
            "overflow_x": null,
            "overflow_y": null,
            "padding": null,
            "right": null,
            "top": null,
            "visibility": null,
            "width": null
          }
        },
        "9bd829e4b74b4f23a5cdd43c66fa681b": {
          "model_module": "@jupyter-widgets/controls",
          "model_name": "ProgressStyleModel",
          "model_module_version": "1.5.0",
          "state": {
            "_model_module": "@jupyter-widgets/controls",
            "_model_module_version": "1.5.0",
            "_model_name": "ProgressStyleModel",
            "_view_count": null,
            "_view_module": "@jupyter-widgets/base",
            "_view_module_version": "1.2.0",
            "_view_name": "StyleView",
            "bar_color": null,
            "description_width": ""
          }
        },
        "beba35c48153487c982cf4245ab89b61": {
          "model_module": "@jupyter-widgets/base",
          "model_name": "LayoutModel",
          "model_module_version": "1.2.0",
          "state": {
            "_model_module": "@jupyter-widgets/base",
            "_model_module_version": "1.2.0",
            "_model_name": "LayoutModel",
            "_view_count": null,
            "_view_module": "@jupyter-widgets/base",
            "_view_module_version": "1.2.0",
            "_view_name": "LayoutView",
            "align_content": null,
            "align_items": null,
            "align_self": null,
            "border": null,
            "bottom": null,
            "display": null,
            "flex": null,
            "flex_flow": null,
            "grid_area": null,
            "grid_auto_columns": null,
            "grid_auto_flow": null,
            "grid_auto_rows": null,
            "grid_column": null,
            "grid_gap": null,
            "grid_row": null,
            "grid_template_areas": null,
            "grid_template_columns": null,
            "grid_template_rows": null,
            "height": null,
            "justify_content": null,
            "justify_items": null,
            "left": null,
            "margin": null,
            "max_height": null,
            "max_width": null,
            "min_height": null,
            "min_width": null,
            "object_fit": null,
            "object_position": null,
            "order": null,
            "overflow": null,
            "overflow_x": null,
            "overflow_y": null,
            "padding": null,
            "right": null,
            "top": null,
            "visibility": null,
            "width": null
          }
        },
        "c440bf5d088b46e3a1681df6837a58d1": {
          "model_module": "@jupyter-widgets/controls",
          "model_name": "DescriptionStyleModel",
          "model_module_version": "1.5.0",
          "state": {
            "_model_module": "@jupyter-widgets/controls",
            "_model_module_version": "1.5.0",
            "_model_name": "DescriptionStyleModel",
            "_view_count": null,
            "_view_module": "@jupyter-widgets/base",
            "_view_module_version": "1.2.0",
            "_view_name": "StyleView",
            "description_width": ""
          }
        },
        "f48b9e79f2a44126ad58d0cc220ecc33": {
          "model_module": "@jupyter-widgets/controls",
          "model_name": "HBoxModel",
          "model_module_version": "1.5.0",
          "state": {
            "_dom_classes": [],
            "_model_module": "@jupyter-widgets/controls",
            "_model_module_version": "1.5.0",
            "_model_name": "HBoxModel",
            "_view_count": null,
            "_view_module": "@jupyter-widgets/controls",
            "_view_module_version": "1.5.0",
            "_view_name": "HBoxView",
            "box_style": "",
            "children": [
              "IPY_MODEL_820ad80a66f441b0933d26abbbf6e483",
              "IPY_MODEL_b5758d53742249b09ef4bf2cad923eca",
              "IPY_MODEL_81cb94f62416418899fea18281bac781"
            ],
            "layout": "IPY_MODEL_62162211ed52402cb1d1504fa33be439"
          }
        },
        "820ad80a66f441b0933d26abbbf6e483": {
          "model_module": "@jupyter-widgets/controls",
          "model_name": "HTMLModel",
          "model_module_version": "1.5.0",
          "state": {
            "_dom_classes": [],
            "_model_module": "@jupyter-widgets/controls",
            "_model_module_version": "1.5.0",
            "_model_name": "HTMLModel",
            "_view_count": null,
            "_view_module": "@jupyter-widgets/controls",
            "_view_module_version": "1.5.0",
            "_view_name": "HTMLView",
            "description": "",
            "description_tooltip": null,
            "layout": "IPY_MODEL_9096b51c594f4b9b9fd9d39cf5062c6a",
            "placeholder": "​",
            "style": "IPY_MODEL_9c787250973a45b1894bd8b8452c5e78",
            "value": "tokenizer_config.json: 100%"
          }
        },
        "b5758d53742249b09ef4bf2cad923eca": {
          "model_module": "@jupyter-widgets/controls",
          "model_name": "FloatProgressModel",
          "model_module_version": "1.5.0",
          "state": {
            "_dom_classes": [],
            "_model_module": "@jupyter-widgets/controls",
            "_model_module_version": "1.5.0",
            "_model_name": "FloatProgressModel",
            "_view_count": null,
            "_view_module": "@jupyter-widgets/controls",
            "_view_module_version": "1.5.0",
            "_view_name": "ProgressView",
            "bar_style": "success",
            "description": "",
            "description_tooltip": null,
            "layout": "IPY_MODEL_b4533ca1b4224513b839894eeb89ce61",
            "max": 48,
            "min": 0,
            "orientation": "horizontal",
            "style": "IPY_MODEL_3eebc5fcc603422aac581c3d05294450",
            "value": 48
          }
        },
        "81cb94f62416418899fea18281bac781": {
          "model_module": "@jupyter-widgets/controls",
          "model_name": "HTMLModel",
          "model_module_version": "1.5.0",
          "state": {
            "_dom_classes": [],
            "_model_module": "@jupyter-widgets/controls",
            "_model_module_version": "1.5.0",
            "_model_name": "HTMLModel",
            "_view_count": null,
            "_view_module": "@jupyter-widgets/controls",
            "_view_module_version": "1.5.0",
            "_view_name": "HTMLView",
            "description": "",
            "description_tooltip": null,
            "layout": "IPY_MODEL_3b2249df476f4137b15e0e325544c523",
            "placeholder": "​",
            "style": "IPY_MODEL_51f558a79d764d5aaba4643ef8f79caa",
            "value": " 48.0/48.0 [00:00&lt;00:00, 2.50kB/s]"
          }
        },
        "62162211ed52402cb1d1504fa33be439": {
          "model_module": "@jupyter-widgets/base",
          "model_name": "LayoutModel",
          "model_module_version": "1.2.0",
          "state": {
            "_model_module": "@jupyter-widgets/base",
            "_model_module_version": "1.2.0",
            "_model_name": "LayoutModel",
            "_view_count": null,
            "_view_module": "@jupyter-widgets/base",
            "_view_module_version": "1.2.0",
            "_view_name": "LayoutView",
            "align_content": null,
            "align_items": null,
            "align_self": null,
            "border": null,
            "bottom": null,
            "display": null,
            "flex": null,
            "flex_flow": null,
            "grid_area": null,
            "grid_auto_columns": null,
            "grid_auto_flow": null,
            "grid_auto_rows": null,
            "grid_column": null,
            "grid_gap": null,
            "grid_row": null,
            "grid_template_areas": null,
            "grid_template_columns": null,
            "grid_template_rows": null,
            "height": null,
            "justify_content": null,
            "justify_items": null,
            "left": null,
            "margin": null,
            "max_height": null,
            "max_width": null,
            "min_height": null,
            "min_width": null,
            "object_fit": null,
            "object_position": null,
            "order": null,
            "overflow": null,
            "overflow_x": null,
            "overflow_y": null,
            "padding": null,
            "right": null,
            "top": null,
            "visibility": null,
            "width": null
          }
        },
        "9096b51c594f4b9b9fd9d39cf5062c6a": {
          "model_module": "@jupyter-widgets/base",
          "model_name": "LayoutModel",
          "model_module_version": "1.2.0",
          "state": {
            "_model_module": "@jupyter-widgets/base",
            "_model_module_version": "1.2.0",
            "_model_name": "LayoutModel",
            "_view_count": null,
            "_view_module": "@jupyter-widgets/base",
            "_view_module_version": "1.2.0",
            "_view_name": "LayoutView",
            "align_content": null,
            "align_items": null,
            "align_self": null,
            "border": null,
            "bottom": null,
            "display": null,
            "flex": null,
            "flex_flow": null,
            "grid_area": null,
            "grid_auto_columns": null,
            "grid_auto_flow": null,
            "grid_auto_rows": null,
            "grid_column": null,
            "grid_gap": null,
            "grid_row": null,
            "grid_template_areas": null,
            "grid_template_columns": null,
            "grid_template_rows": null,
            "height": null,
            "justify_content": null,
            "justify_items": null,
            "left": null,
            "margin": null,
            "max_height": null,
            "max_width": null,
            "min_height": null,
            "min_width": null,
            "object_fit": null,
            "object_position": null,
            "order": null,
            "overflow": null,
            "overflow_x": null,
            "overflow_y": null,
            "padding": null,
            "right": null,
            "top": null,
            "visibility": null,
            "width": null
          }
        },
        "9c787250973a45b1894bd8b8452c5e78": {
          "model_module": "@jupyter-widgets/controls",
          "model_name": "DescriptionStyleModel",
          "model_module_version": "1.5.0",
          "state": {
            "_model_module": "@jupyter-widgets/controls",
            "_model_module_version": "1.5.0",
            "_model_name": "DescriptionStyleModel",
            "_view_count": null,
            "_view_module": "@jupyter-widgets/base",
            "_view_module_version": "1.2.0",
            "_view_name": "StyleView",
            "description_width": ""
          }
        },
        "b4533ca1b4224513b839894eeb89ce61": {
          "model_module": "@jupyter-widgets/base",
          "model_name": "LayoutModel",
          "model_module_version": "1.2.0",
          "state": {
            "_model_module": "@jupyter-widgets/base",
            "_model_module_version": "1.2.0",
            "_model_name": "LayoutModel",
            "_view_count": null,
            "_view_module": "@jupyter-widgets/base",
            "_view_module_version": "1.2.0",
            "_view_name": "LayoutView",
            "align_content": null,
            "align_items": null,
            "align_self": null,
            "border": null,
            "bottom": null,
            "display": null,
            "flex": null,
            "flex_flow": null,
            "grid_area": null,
            "grid_auto_columns": null,
            "grid_auto_flow": null,
            "grid_auto_rows": null,
            "grid_column": null,
            "grid_gap": null,
            "grid_row": null,
            "grid_template_areas": null,
            "grid_template_columns": null,
            "grid_template_rows": null,
            "height": null,
            "justify_content": null,
            "justify_items": null,
            "left": null,
            "margin": null,
            "max_height": null,
            "max_width": null,
            "min_height": null,
            "min_width": null,
            "object_fit": null,
            "object_position": null,
            "order": null,
            "overflow": null,
            "overflow_x": null,
            "overflow_y": null,
            "padding": null,
            "right": null,
            "top": null,
            "visibility": null,
            "width": null
          }
        },
        "3eebc5fcc603422aac581c3d05294450": {
          "model_module": "@jupyter-widgets/controls",
          "model_name": "ProgressStyleModel",
          "model_module_version": "1.5.0",
          "state": {
            "_model_module": "@jupyter-widgets/controls",
            "_model_module_version": "1.5.0",
            "_model_name": "ProgressStyleModel",
            "_view_count": null,
            "_view_module": "@jupyter-widgets/base",
            "_view_module_version": "1.2.0",
            "_view_name": "StyleView",
            "bar_color": null,
            "description_width": ""
          }
        },
        "3b2249df476f4137b15e0e325544c523": {
          "model_module": "@jupyter-widgets/base",
          "model_name": "LayoutModel",
          "model_module_version": "1.2.0",
          "state": {
            "_model_module": "@jupyter-widgets/base",
            "_model_module_version": "1.2.0",
            "_model_name": "LayoutModel",
            "_view_count": null,
            "_view_module": "@jupyter-widgets/base",
            "_view_module_version": "1.2.0",
            "_view_name": "LayoutView",
            "align_content": null,
            "align_items": null,
            "align_self": null,
            "border": null,
            "bottom": null,
            "display": null,
            "flex": null,
            "flex_flow": null,
            "grid_area": null,
            "grid_auto_columns": null,
            "grid_auto_flow": null,
            "grid_auto_rows": null,
            "grid_column": null,
            "grid_gap": null,
            "grid_row": null,
            "grid_template_areas": null,
            "grid_template_columns": null,
            "grid_template_rows": null,
            "height": null,
            "justify_content": null,
            "justify_items": null,
            "left": null,
            "margin": null,
            "max_height": null,
            "max_width": null,
            "min_height": null,
            "min_width": null,
            "object_fit": null,
            "object_position": null,
            "order": null,
            "overflow": null,
            "overflow_x": null,
            "overflow_y": null,
            "padding": null,
            "right": null,
            "top": null,
            "visibility": null,
            "width": null
          }
        },
        "51f558a79d764d5aaba4643ef8f79caa": {
          "model_module": "@jupyter-widgets/controls",
          "model_name": "DescriptionStyleModel",
          "model_module_version": "1.5.0",
          "state": {
            "_model_module": "@jupyter-widgets/controls",
            "_model_module_version": "1.5.0",
            "_model_name": "DescriptionStyleModel",
            "_view_count": null,
            "_view_module": "@jupyter-widgets/base",
            "_view_module_version": "1.2.0",
            "_view_name": "StyleView",
            "description_width": ""
          }
        },
        "f22a1b6cc90e4388a90502fad749f538": {
          "model_module": "@jupyter-widgets/controls",
          "model_name": "HBoxModel",
          "model_module_version": "1.5.0",
          "state": {
            "_dom_classes": [],
            "_model_module": "@jupyter-widgets/controls",
            "_model_module_version": "1.5.0",
            "_model_name": "HBoxModel",
            "_view_count": null,
            "_view_module": "@jupyter-widgets/controls",
            "_view_module_version": "1.5.0",
            "_view_name": "HBoxView",
            "box_style": "",
            "children": [
              "IPY_MODEL_d9ae37c17c4341a6a919ca36be144d5f",
              "IPY_MODEL_25d9bf2f563d430bad34d95b5c571d47",
              "IPY_MODEL_cef8f15e289141bb9d100dd059ecf38d"
            ],
            "layout": "IPY_MODEL_5ccd078b0c9f432e927d53e688ea03ea"
          }
        },
        "d9ae37c17c4341a6a919ca36be144d5f": {
          "model_module": "@jupyter-widgets/controls",
          "model_name": "HTMLModel",
          "model_module_version": "1.5.0",
          "state": {
            "_dom_classes": [],
            "_model_module": "@jupyter-widgets/controls",
            "_model_module_version": "1.5.0",
            "_model_name": "HTMLModel",
            "_view_count": null,
            "_view_module": "@jupyter-widgets/controls",
            "_view_module_version": "1.5.0",
            "_view_name": "HTMLView",
            "description": "",
            "description_tooltip": null,
            "layout": "IPY_MODEL_7a626e57d61947fd94a1c18ff0e12a47",
            "placeholder": "​",
            "style": "IPY_MODEL_87c7c9ba2a664766902c68fcb6b890d9",
            "value": "vocab.txt: 100%"
          }
        },
        "25d9bf2f563d430bad34d95b5c571d47": {
          "model_module": "@jupyter-widgets/controls",
          "model_name": "FloatProgressModel",
          "model_module_version": "1.5.0",
          "state": {
            "_dom_classes": [],
            "_model_module": "@jupyter-widgets/controls",
            "_model_module_version": "1.5.0",
            "_model_name": "FloatProgressModel",
            "_view_count": null,
            "_view_module": "@jupyter-widgets/controls",
            "_view_module_version": "1.5.0",
            "_view_name": "ProgressView",
            "bar_style": "success",
            "description": "",
            "description_tooltip": null,
            "layout": "IPY_MODEL_6021deee4d384291bb9584dc39101924",
            "max": 231508,
            "min": 0,
            "orientation": "horizontal",
            "style": "IPY_MODEL_425eaa5e08a34822b4cb30d3cc43a90e",
            "value": 231508
          }
        },
        "cef8f15e289141bb9d100dd059ecf38d": {
          "model_module": "@jupyter-widgets/controls",
          "model_name": "HTMLModel",
          "model_module_version": "1.5.0",
          "state": {
            "_dom_classes": [],
            "_model_module": "@jupyter-widgets/controls",
            "_model_module_version": "1.5.0",
            "_model_name": "HTMLModel",
            "_view_count": null,
            "_view_module": "@jupyter-widgets/controls",
            "_view_module_version": "1.5.0",
            "_view_name": "HTMLView",
            "description": "",
            "description_tooltip": null,
            "layout": "IPY_MODEL_c34b18b9cf424a56aed6bc6335e9e856",
            "placeholder": "​",
            "style": "IPY_MODEL_3c992c459b4b45c5baca23654f049a33",
            "value": " 232k/232k [00:00&lt;00:00, 1.08MB/s]"
          }
        },
        "5ccd078b0c9f432e927d53e688ea03ea": {
          "model_module": "@jupyter-widgets/base",
          "model_name": "LayoutModel",
          "model_module_version": "1.2.0",
          "state": {
            "_model_module": "@jupyter-widgets/base",
            "_model_module_version": "1.2.0",
            "_model_name": "LayoutModel",
            "_view_count": null,
            "_view_module": "@jupyter-widgets/base",
            "_view_module_version": "1.2.0",
            "_view_name": "LayoutView",
            "align_content": null,
            "align_items": null,
            "align_self": null,
            "border": null,
            "bottom": null,
            "display": null,
            "flex": null,
            "flex_flow": null,
            "grid_area": null,
            "grid_auto_columns": null,
            "grid_auto_flow": null,
            "grid_auto_rows": null,
            "grid_column": null,
            "grid_gap": null,
            "grid_row": null,
            "grid_template_areas": null,
            "grid_template_columns": null,
            "grid_template_rows": null,
            "height": null,
            "justify_content": null,
            "justify_items": null,
            "left": null,
            "margin": null,
            "max_height": null,
            "max_width": null,
            "min_height": null,
            "min_width": null,
            "object_fit": null,
            "object_position": null,
            "order": null,
            "overflow": null,
            "overflow_x": null,
            "overflow_y": null,
            "padding": null,
            "right": null,
            "top": null,
            "visibility": null,
            "width": null
          }
        },
        "7a626e57d61947fd94a1c18ff0e12a47": {
          "model_module": "@jupyter-widgets/base",
          "model_name": "LayoutModel",
          "model_module_version": "1.2.0",
          "state": {
            "_model_module": "@jupyter-widgets/base",
            "_model_module_version": "1.2.0",
            "_model_name": "LayoutModel",
            "_view_count": null,
            "_view_module": "@jupyter-widgets/base",
            "_view_module_version": "1.2.0",
            "_view_name": "LayoutView",
            "align_content": null,
            "align_items": null,
            "align_self": null,
            "border": null,
            "bottom": null,
            "display": null,
            "flex": null,
            "flex_flow": null,
            "grid_area": null,
            "grid_auto_columns": null,
            "grid_auto_flow": null,
            "grid_auto_rows": null,
            "grid_column": null,
            "grid_gap": null,
            "grid_row": null,
            "grid_template_areas": null,
            "grid_template_columns": null,
            "grid_template_rows": null,
            "height": null,
            "justify_content": null,
            "justify_items": null,
            "left": null,
            "margin": null,
            "max_height": null,
            "max_width": null,
            "min_height": null,
            "min_width": null,
            "object_fit": null,
            "object_position": null,
            "order": null,
            "overflow": null,
            "overflow_x": null,
            "overflow_y": null,
            "padding": null,
            "right": null,
            "top": null,
            "visibility": null,
            "width": null
          }
        },
        "87c7c9ba2a664766902c68fcb6b890d9": {
          "model_module": "@jupyter-widgets/controls",
          "model_name": "DescriptionStyleModel",
          "model_module_version": "1.5.0",
          "state": {
            "_model_module": "@jupyter-widgets/controls",
            "_model_module_version": "1.5.0",
            "_model_name": "DescriptionStyleModel",
            "_view_count": null,
            "_view_module": "@jupyter-widgets/base",
            "_view_module_version": "1.2.0",
            "_view_name": "StyleView",
            "description_width": ""
          }
        },
        "6021deee4d384291bb9584dc39101924": {
          "model_module": "@jupyter-widgets/base",
          "model_name": "LayoutModel",
          "model_module_version": "1.2.0",
          "state": {
            "_model_module": "@jupyter-widgets/base",
            "_model_module_version": "1.2.0",
            "_model_name": "LayoutModel",
            "_view_count": null,
            "_view_module": "@jupyter-widgets/base",
            "_view_module_version": "1.2.0",
            "_view_name": "LayoutView",
            "align_content": null,
            "align_items": null,
            "align_self": null,
            "border": null,
            "bottom": null,
            "display": null,
            "flex": null,
            "flex_flow": null,
            "grid_area": null,
            "grid_auto_columns": null,
            "grid_auto_flow": null,
            "grid_auto_rows": null,
            "grid_column": null,
            "grid_gap": null,
            "grid_row": null,
            "grid_template_areas": null,
            "grid_template_columns": null,
            "grid_template_rows": null,
            "height": null,
            "justify_content": null,
            "justify_items": null,
            "left": null,
            "margin": null,
            "max_height": null,
            "max_width": null,
            "min_height": null,
            "min_width": null,
            "object_fit": null,
            "object_position": null,
            "order": null,
            "overflow": null,
            "overflow_x": null,
            "overflow_y": null,
            "padding": null,
            "right": null,
            "top": null,
            "visibility": null,
            "width": null
          }
        },
        "425eaa5e08a34822b4cb30d3cc43a90e": {
          "model_module": "@jupyter-widgets/controls",
          "model_name": "ProgressStyleModel",
          "model_module_version": "1.5.0",
          "state": {
            "_model_module": "@jupyter-widgets/controls",
            "_model_module_version": "1.5.0",
            "_model_name": "ProgressStyleModel",
            "_view_count": null,
            "_view_module": "@jupyter-widgets/base",
            "_view_module_version": "1.2.0",
            "_view_name": "StyleView",
            "bar_color": null,
            "description_width": ""
          }
        },
        "c34b18b9cf424a56aed6bc6335e9e856": {
          "model_module": "@jupyter-widgets/base",
          "model_name": "LayoutModel",
          "model_module_version": "1.2.0",
          "state": {
            "_model_module": "@jupyter-widgets/base",
            "_model_module_version": "1.2.0",
            "_model_name": "LayoutModel",
            "_view_count": null,
            "_view_module": "@jupyter-widgets/base",
            "_view_module_version": "1.2.0",
            "_view_name": "LayoutView",
            "align_content": null,
            "align_items": null,
            "align_self": null,
            "border": null,
            "bottom": null,
            "display": null,
            "flex": null,
            "flex_flow": null,
            "grid_area": null,
            "grid_auto_columns": null,
            "grid_auto_flow": null,
            "grid_auto_rows": null,
            "grid_column": null,
            "grid_gap": null,
            "grid_row": null,
            "grid_template_areas": null,
            "grid_template_columns": null,
            "grid_template_rows": null,
            "height": null,
            "justify_content": null,
            "justify_items": null,
            "left": null,
            "margin": null,
            "max_height": null,
            "max_width": null,
            "min_height": null,
            "min_width": null,
            "object_fit": null,
            "object_position": null,
            "order": null,
            "overflow": null,
            "overflow_x": null,
            "overflow_y": null,
            "padding": null,
            "right": null,
            "top": null,
            "visibility": null,
            "width": null
          }
        },
        "3c992c459b4b45c5baca23654f049a33": {
          "model_module": "@jupyter-widgets/controls",
          "model_name": "DescriptionStyleModel",
          "model_module_version": "1.5.0",
          "state": {
            "_model_module": "@jupyter-widgets/controls",
            "_model_module_version": "1.5.0",
            "_model_name": "DescriptionStyleModel",
            "_view_count": null,
            "_view_module": "@jupyter-widgets/base",
            "_view_module_version": "1.2.0",
            "_view_name": "StyleView",
            "description_width": ""
          }
        },
        "8a6ab8b7d17d425dbf9f7f2e0b64cdc8": {
          "model_module": "@jupyter-widgets/controls",
          "model_name": "HBoxModel",
          "model_module_version": "1.5.0",
          "state": {
            "_dom_classes": [],
            "_model_module": "@jupyter-widgets/controls",
            "_model_module_version": "1.5.0",
            "_model_name": "HBoxModel",
            "_view_count": null,
            "_view_module": "@jupyter-widgets/controls",
            "_view_module_version": "1.5.0",
            "_view_name": "HBoxView",
            "box_style": "",
            "children": [
              "IPY_MODEL_7e3fc0bf5bb14ff79b5f3aecdf3bfc2a",
              "IPY_MODEL_7d00fae15d9246439bd6a738fdded4a6",
              "IPY_MODEL_ffb2fb4e8169425c909905d8bcee929b"
            ],
            "layout": "IPY_MODEL_351389c7385241489ae234a289f480ce"
          }
        },
        "7e3fc0bf5bb14ff79b5f3aecdf3bfc2a": {
          "model_module": "@jupyter-widgets/controls",
          "model_name": "HTMLModel",
          "model_module_version": "1.5.0",
          "state": {
            "_dom_classes": [],
            "_model_module": "@jupyter-widgets/controls",
            "_model_module_version": "1.5.0",
            "_model_name": "HTMLModel",
            "_view_count": null,
            "_view_module": "@jupyter-widgets/controls",
            "_view_module_version": "1.5.0",
            "_view_name": "HTMLView",
            "description": "",
            "description_tooltip": null,
            "layout": "IPY_MODEL_c5c304952ee9402cb002120de5ce4e4a",
            "placeholder": "​",
            "style": "IPY_MODEL_e2113c95f1334a11a8351f04088f966b",
            "value": "tokenizer.json: 100%"
          }
        },
        "7d00fae15d9246439bd6a738fdded4a6": {
          "model_module": "@jupyter-widgets/controls",
          "model_name": "FloatProgressModel",
          "model_module_version": "1.5.0",
          "state": {
            "_dom_classes": [],
            "_model_module": "@jupyter-widgets/controls",
            "_model_module_version": "1.5.0",
            "_model_name": "FloatProgressModel",
            "_view_count": null,
            "_view_module": "@jupyter-widgets/controls",
            "_view_module_version": "1.5.0",
            "_view_name": "ProgressView",
            "bar_style": "success",
            "description": "",
            "description_tooltip": null,
            "layout": "IPY_MODEL_eb055545654f4dc09d8bcfda161d9b36",
            "max": 466062,
            "min": 0,
            "orientation": "horizontal",
            "style": "IPY_MODEL_317925fef1a247778a13a10c6f763466",
            "value": 466062
          }
        },
        "ffb2fb4e8169425c909905d8bcee929b": {
          "model_module": "@jupyter-widgets/controls",
          "model_name": "HTMLModel",
          "model_module_version": "1.5.0",
          "state": {
            "_dom_classes": [],
            "_model_module": "@jupyter-widgets/controls",
            "_model_module_version": "1.5.0",
            "_model_name": "HTMLModel",
            "_view_count": null,
            "_view_module": "@jupyter-widgets/controls",
            "_view_module_version": "1.5.0",
            "_view_name": "HTMLView",
            "description": "",
            "description_tooltip": null,
            "layout": "IPY_MODEL_e45c5f9b9ab04567b54377db2a6e33a6",
            "placeholder": "​",
            "style": "IPY_MODEL_00c57e5066334304b201cc7bd4f10e3e",
            "value": " 466k/466k [00:00&lt;00:00, 21.0MB/s]"
          }
        },
        "351389c7385241489ae234a289f480ce": {
          "model_module": "@jupyter-widgets/base",
          "model_name": "LayoutModel",
          "model_module_version": "1.2.0",
          "state": {
            "_model_module": "@jupyter-widgets/base",
            "_model_module_version": "1.2.0",
            "_model_name": "LayoutModel",
            "_view_count": null,
            "_view_module": "@jupyter-widgets/base",
            "_view_module_version": "1.2.0",
            "_view_name": "LayoutView",
            "align_content": null,
            "align_items": null,
            "align_self": null,
            "border": null,
            "bottom": null,
            "display": null,
            "flex": null,
            "flex_flow": null,
            "grid_area": null,
            "grid_auto_columns": null,
            "grid_auto_flow": null,
            "grid_auto_rows": null,
            "grid_column": null,
            "grid_gap": null,
            "grid_row": null,
            "grid_template_areas": null,
            "grid_template_columns": null,
            "grid_template_rows": null,
            "height": null,
            "justify_content": null,
            "justify_items": null,
            "left": null,
            "margin": null,
            "max_height": null,
            "max_width": null,
            "min_height": null,
            "min_width": null,
            "object_fit": null,
            "object_position": null,
            "order": null,
            "overflow": null,
            "overflow_x": null,
            "overflow_y": null,
            "padding": null,
            "right": null,
            "top": null,
            "visibility": null,
            "width": null
          }
        },
        "c5c304952ee9402cb002120de5ce4e4a": {
          "model_module": "@jupyter-widgets/base",
          "model_name": "LayoutModel",
          "model_module_version": "1.2.0",
          "state": {
            "_model_module": "@jupyter-widgets/base",
            "_model_module_version": "1.2.0",
            "_model_name": "LayoutModel",
            "_view_count": null,
            "_view_module": "@jupyter-widgets/base",
            "_view_module_version": "1.2.0",
            "_view_name": "LayoutView",
            "align_content": null,
            "align_items": null,
            "align_self": null,
            "border": null,
            "bottom": null,
            "display": null,
            "flex": null,
            "flex_flow": null,
            "grid_area": null,
            "grid_auto_columns": null,
            "grid_auto_flow": null,
            "grid_auto_rows": null,
            "grid_column": null,
            "grid_gap": null,
            "grid_row": null,
            "grid_template_areas": null,
            "grid_template_columns": null,
            "grid_template_rows": null,
            "height": null,
            "justify_content": null,
            "justify_items": null,
            "left": null,
            "margin": null,
            "max_height": null,
            "max_width": null,
            "min_height": null,
            "min_width": null,
            "object_fit": null,
            "object_position": null,
            "order": null,
            "overflow": null,
            "overflow_x": null,
            "overflow_y": null,
            "padding": null,
            "right": null,
            "top": null,
            "visibility": null,
            "width": null
          }
        },
        "e2113c95f1334a11a8351f04088f966b": {
          "model_module": "@jupyter-widgets/controls",
          "model_name": "DescriptionStyleModel",
          "model_module_version": "1.5.0",
          "state": {
            "_model_module": "@jupyter-widgets/controls",
            "_model_module_version": "1.5.0",
            "_model_name": "DescriptionStyleModel",
            "_view_count": null,
            "_view_module": "@jupyter-widgets/base",
            "_view_module_version": "1.2.0",
            "_view_name": "StyleView",
            "description_width": ""
          }
        },
        "eb055545654f4dc09d8bcfda161d9b36": {
          "model_module": "@jupyter-widgets/base",
          "model_name": "LayoutModel",
          "model_module_version": "1.2.0",
          "state": {
            "_model_module": "@jupyter-widgets/base",
            "_model_module_version": "1.2.0",
            "_model_name": "LayoutModel",
            "_view_count": null,
            "_view_module": "@jupyter-widgets/base",
            "_view_module_version": "1.2.0",
            "_view_name": "LayoutView",
            "align_content": null,
            "align_items": null,
            "align_self": null,
            "border": null,
            "bottom": null,
            "display": null,
            "flex": null,
            "flex_flow": null,
            "grid_area": null,
            "grid_auto_columns": null,
            "grid_auto_flow": null,
            "grid_auto_rows": null,
            "grid_column": null,
            "grid_gap": null,
            "grid_row": null,
            "grid_template_areas": null,
            "grid_template_columns": null,
            "grid_template_rows": null,
            "height": null,
            "justify_content": null,
            "justify_items": null,
            "left": null,
            "margin": null,
            "max_height": null,
            "max_width": null,
            "min_height": null,
            "min_width": null,
            "object_fit": null,
            "object_position": null,
            "order": null,
            "overflow": null,
            "overflow_x": null,
            "overflow_y": null,
            "padding": null,
            "right": null,
            "top": null,
            "visibility": null,
            "width": null
          }
        },
        "317925fef1a247778a13a10c6f763466": {
          "model_module": "@jupyter-widgets/controls",
          "model_name": "ProgressStyleModel",
          "model_module_version": "1.5.0",
          "state": {
            "_model_module": "@jupyter-widgets/controls",
            "_model_module_version": "1.5.0",
            "_model_name": "ProgressStyleModel",
            "_view_count": null,
            "_view_module": "@jupyter-widgets/base",
            "_view_module_version": "1.2.0",
            "_view_name": "StyleView",
            "bar_color": null,
            "description_width": ""
          }
        },
        "e45c5f9b9ab04567b54377db2a6e33a6": {
          "model_module": "@jupyter-widgets/base",
          "model_name": "LayoutModel",
          "model_module_version": "1.2.0",
          "state": {
            "_model_module": "@jupyter-widgets/base",
            "_model_module_version": "1.2.0",
            "_model_name": "LayoutModel",
            "_view_count": null,
            "_view_module": "@jupyter-widgets/base",
            "_view_module_version": "1.2.0",
            "_view_name": "LayoutView",
            "align_content": null,
            "align_items": null,
            "align_self": null,
            "border": null,
            "bottom": null,
            "display": null,
            "flex": null,
            "flex_flow": null,
            "grid_area": null,
            "grid_auto_columns": null,
            "grid_auto_flow": null,
            "grid_auto_rows": null,
            "grid_column": null,
            "grid_gap": null,
            "grid_row": null,
            "grid_template_areas": null,
            "grid_template_columns": null,
            "grid_template_rows": null,
            "height": null,
            "justify_content": null,
            "justify_items": null,
            "left": null,
            "margin": null,
            "max_height": null,
            "max_width": null,
            "min_height": null,
            "min_width": null,
            "object_fit": null,
            "object_position": null,
            "order": null,
            "overflow": null,
            "overflow_x": null,
            "overflow_y": null,
            "padding": null,
            "right": null,
            "top": null,
            "visibility": null,
            "width": null
          }
        },
        "00c57e5066334304b201cc7bd4f10e3e": {
          "model_module": "@jupyter-widgets/controls",
          "model_name": "DescriptionStyleModel",
          "model_module_version": "1.5.0",
          "state": {
            "_model_module": "@jupyter-widgets/controls",
            "_model_module_version": "1.5.0",
            "_model_name": "DescriptionStyleModel",
            "_view_count": null,
            "_view_module": "@jupyter-widgets/base",
            "_view_module_version": "1.2.0",
            "_view_name": "StyleView",
            "description_width": ""
          }
        }
      }
    }
  },
  "nbformat": 4,
  "nbformat_minor": 0
}